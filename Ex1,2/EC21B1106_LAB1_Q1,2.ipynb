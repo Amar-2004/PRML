{
 "cells": [
  {
   "cell_type": "markdown",
   "id": "332972fe-51d5-479d-875c-9dbde6740bee",
   "metadata": {},
   "source": [
    "# Exercise 1 \n",
    "### A Amar Rohith \n",
    "### EC21B1106"
   ]
  },
  {
   "cell_type": "markdown",
   "id": "f72997eb-84c9-4645-a039-68b3f55d0e17",
   "metadata": {},
   "source": [
    "## Question 1"
   ]
  },
  {
   "cell_type": "code",
   "execution_count": 1,
   "id": "e0d42e9f-d2e4-448d-925f-1b6a0f42f640",
   "metadata": {},
   "outputs": [],
   "source": [
    "import numpy as np"
   ]
  },
  {
   "cell_type": "markdown",
   "id": "efd5adb4-875b-4f86-b345-63a1179cef78",
   "metadata": {},
   "source": [
    "Array Creation and Basic Operation"
   ]
  },
  {
   "cell_type": "markdown",
   "id": "7f55303c-bcf5-480e-9c8d-a9632d8f81e4",
   "metadata": {},
   "source": [
    "a)Create a 1D array of numbers from 0 to 19 using np.arange(). "
   ]
  },
  {
   "cell_type": "code",
   "execution_count": 2,
   "id": "8f86387c-46c9-4dce-9ccd-f0990f21cddf",
   "metadata": {},
   "outputs": [
    {
     "name": "stdout",
     "output_type": "stream",
     "text": [
      "[ 0  1  2  3  4  5  6  7  8  9 10 11 12 13 14 15 16 17 18 19]\n"
     ]
    }
   ],
   "source": [
    "Arr=np.arange(0,20)\n",
    "print(Arr)"
   ]
  },
  {
   "cell_type": "markdown",
   "id": "3e238626-1dae-4ae4-8063-c465aef253da",
   "metadata": {},
   "source": [
    "b) Reshape this array into a 4x5 2D array.\n"
   ]
  },
  {
   "cell_type": "code",
   "execution_count": 3,
   "id": "03f4a01c-af30-4582-aac4-28c157249e6e",
   "metadata": {
    "scrolled": true
   },
   "outputs": [
    {
     "name": "stdout",
     "output_type": "stream",
     "text": [
      "[[ 0  1  2  3  4]\n",
      " [ 5  6  7  8  9]\n",
      " [10 11 12 13 14]\n",
      " [15 16 17 18 19]]\n"
     ]
    }
   ],
   "source": [
    "'''np.reshape(Arr,(4,5))\n",
    "print(Arr)'''\n",
    "\n",
    "# or use the object to call the function\n",
    "\n",
    "Arr=Arr.reshape((4,5))\n",
    "print(Arr)"
   ]
  },
  {
   "cell_type": "markdown",
   "id": "0f582c2a-793e-460a-8d26-01714a3b48b3",
   "metadata": {},
   "source": [
    " c) Create a 3x3 array of all zeros, and another 3x3 array of all ones. \n"
   ]
  },
  {
   "cell_type": "code",
   "execution_count": 4,
   "id": "7b1e0719-3b8c-4d22-bcc0-6c41110ddddb",
   "metadata": {},
   "outputs": [
    {
     "name": "stdout",
     "output_type": "stream",
     "text": [
      "[[0. 0. 0.]\n",
      " [0. 0. 0.]\n",
      " [0. 0. 0.]]\n",
      "[[1. 1. 1.]\n",
      " [1. 1. 1.]\n",
      " [1. 1. 1.]]\n"
     ]
    }
   ],
   "source": [
    "zeros=np.zeros((3,3))\n",
    "ones=np.ones((3,3))\n",
    "print(zeros,ones,sep='\\n')"
   ]
  },
  {
   "cell_type": "markdown",
   "id": "fe9c9819-0159-41d7-b125-6de06b2a1a0b",
   "metadata": {},
   "source": [
    "d)Generate a 1D array of 10 evenly spaced numbers between 1 and 100 using np.linspace().\n"
   ]
  },
  {
   "cell_type": "code",
   "execution_count": 5,
   "id": "8ae55f42-8895-44ae-b1ac-c9c07723b969",
   "metadata": {},
   "outputs": [
    {
     "name": "stdout",
     "output_type": "stream",
     "text": [
      "[  1.  12.  23.  34.  45.  56.  67.  78.  89. 100.]\n"
     ]
    }
   ],
   "source": [
    "ans=np.linspace(1,100,10)\n",
    "print(ans)"
   ]
  },
  {
   "cell_type": "markdown",
   "id": "9958e94a-c5e3-44d6-81b2-926b2f7ee785",
   "metadata": {},
   "source": [
    " ii) Indexing, Slicing, and Iterating"
   ]
  },
  {
   "cell_type": "code",
   "execution_count": 6,
   "id": "60acf8e6-e7dc-4d38-844b-a03ef52f57ac",
   "metadata": {},
   "outputs": [
    {
     "name": "stdout",
     "output_type": "stream",
     "text": [
      "13\n",
      "[5 6 7 8 9]\n",
      "[ 4  9 14 19]\n"
     ]
    }
   ],
   "source": [
    "#1 \n",
    "print(Arr[2][3]) # or print(Arr[2,3])\n",
    "#2\n",
    "print(Arr[1][:]) # or print(Arr[1,:])\n",
    "#3\n",
    "print(Arr[:,-1])"
   ]
  },
  {
   "cell_type": "markdown",
   "id": "61dad4cc-6787-4a59-aa03-5d06e5c12e53",
   "metadata": {},
   "source": [
    " b) Reverse the order of elements in the second row."
   ]
  },
  {
   "cell_type": "code",
   "execution_count": 7,
   "id": "a918bf7a-401a-406a-b041-40b8827db5f1",
   "metadata": {},
   "outputs": [
    {
     "name": "stdout",
     "output_type": "stream",
     "text": [
      "prev arr=[[ 0  1  2  3  4]\n",
      " [ 5  6  7  8  9]\n",
      " [10 11 12 13 14]\n",
      " [15 16 17 18 19]]\n",
      "After arr=[[ 0  1  2  3  4]\n",
      " [ 9  8  7  6  5]\n",
      " [10 11 12 13 14]\n",
      " [15 16 17 18 19]]\n"
     ]
    }
   ],
   "source": [
    "print(f\"prev arr={Arr}\")\n",
    "Arr[1,:]=Arr[1,:][::-1]\n",
    "print(f\"After arr={Arr}\")"
   ]
  },
  {
   "cell_type": "markdown",
   "id": "703c780f-61bf-4626-819d-fb5b8d97c927",
   "metadata": {},
   "source": [
    "Create a 3x3 array with random integers between 1 and 100, then find\n",
    " all elements greater than 50."
   ]
  },
  {
   "cell_type": "code",
   "execution_count": 8,
   "id": "ac1d9dc6-ec99-4640-932b-764685611877",
   "metadata": {},
   "outputs": [
    {
     "name": "stdout",
     "output_type": "stream",
     "text": [
      "[[38 85 41]\n",
      " [70 75  8]\n",
      " [18 24 20]]\n",
      "[85 70 75]\n"
     ]
    }
   ],
   "source": [
    "random_matrix=np.random.randint(1,101,(3,3))\n",
    "ele50=random_matrix[random_matrix>50]\n",
    "\n",
    "print(random_matrix)\n",
    "print(ele50)"
   ]
  },
  {
   "cell_type": "markdown",
   "id": "e83d7f7b-25f0-4374-837b-752dee379bf8",
   "metadata": {},
   "source": [
    "iii) Conditional Statements and Boolean Operations a) Create a 5x5\n",
    " array of random integers between 0 and 100. b) Create a boolean mask\n",
    " for elements between 30 and 70 (inclusive). c) Use this mask to\n",
    " replace all elements outside this range with the value-1"
   ]
  },
  {
   "cell_type": "code",
   "execution_count": 9,
   "id": "245bf096-697f-4b61-9e72-6c88f3ac2c6e",
   "metadata": {},
   "outputs": [
    {
     "name": "stdout",
     "output_type": "stream",
     "text": [
      "[[69 -1 -1 -1 48]\n",
      " [-1 -1 70 -1 -1]\n",
      " [-1 63 -1 -1 32]\n",
      " [-1 -1 54 -1 -1]\n",
      " [-1 -1 -1 -1 66]]\n",
      "[[ True False False False  True]\n",
      " [False False  True False False]\n",
      " [False  True False False  True]\n",
      " [False False  True False False]\n",
      " [False False False False  True]]\n"
     ]
    }
   ],
   "source": [
    "random_matrix=np.random.randint(1,101,(5,5))\n",
    "ele30to70=(random_matrix>=30)&(random_matrix<=70)\n",
    "random_matrix[~ele30to70]=-1\n",
    "print(random_matrix)\n",
    "print(ele30to70)\n"
   ]
  },
  {
   "cell_type": "markdown",
   "id": "38a84bf4-8a86-43fd-9c35-a180d96add42",
   "metadata": {},
   "source": [
    " iv) Basic Mathematical Operations\n"
   ]
  },
  {
   "cell_type": "markdown",
   "id": "f3667279-ab9c-493e-b26e-b4be7ce10802",
   "metadata": {},
   "source": [
    "a) Create two 3x3 arrays with random integers between 1 and 10"
   ]
  },
  {
   "cell_type": "code",
   "execution_count": 10,
   "id": "6167d42a-3aa5-4b73-9034-e6c27ac42970",
   "metadata": {},
   "outputs": [
    {
     "name": "stdout",
     "output_type": "stream",
     "text": [
      "mat1=\n",
      "[[8 3 8]\n",
      " [7 7 6]\n",
      " [3 3 4]] \n",
      " mat2=\n",
      "[[ 2  5  6]\n",
      " [ 6 10  5]\n",
      " [ 1  2  6]]\n"
     ]
    }
   ],
   "source": [
    "mat1=np.random.randint(1,11,(3,3))\n",
    "mat2=np.random.randint(1,11,(3,3))\n",
    "print(f\"mat1=\\n{mat1} \\n mat2=\\n{mat2}\")"
   ]
  },
  {
   "cell_type": "markdown",
   "id": "473b5c52-8f8b-484a-a699-4a20c46ae7a8",
   "metadata": {},
   "source": [
    " b) Perform element-wise addition, subtraction, multiplication, and\n",
    " division on these arrays"
   ]
  },
  {
   "cell_type": "code",
   "execution_count": 11,
   "id": "e84a467c-1417-4519-af26-0490c6327a37",
   "metadata": {},
   "outputs": [
    {
     "name": "stdout",
     "output_type": "stream",
     "text": [
      "matadd=\n",
      "[[10  8 14]\n",
      " [13 17 11]\n",
      " [ 4  5 10]]\n",
      "matsub=\n",
      "[[ 6 -2  2]\n",
      " [ 1 -3  1]\n",
      " [ 2  1 -2]]\n",
      "matmul=\n",
      "[[16 15 48]\n",
      " [42 70 30]\n",
      " [ 3  6 24]]\n",
      "matdiv=\n",
      "[[4.         0.6        1.33333333]\n",
      " [1.16666667 0.7        1.2       ]\n",
      " [3.         1.5        0.66666667]]\n"
     ]
    }
   ],
   "source": [
    "\n",
    "print(f\"matadd=\\n{mat1+mat2}\")\n",
    "print(f\"matsub=\\n{mat1-mat2}\")\n",
    "print(f\"matmul=\\n{mat1*mat2}\")\n",
    "print(f\"matdiv=\\n{mat1/mat2}\")"
   ]
  },
  {
   "cell_type": "markdown",
   "id": "a9602099-cc2c-4406-8144-a42cd57420e5",
   "metadata": {},
   "source": [
    " c) Calculate the dot product of these two arrays."
   ]
  },
  {
   "cell_type": "code",
   "execution_count": 12,
   "id": "a29274d1-8b8f-46b8-a886-13fac776a38a",
   "metadata": {},
   "outputs": [
    {
     "name": "stdout",
     "output_type": "stream",
     "text": [
      "matdot=\n",
      "[[ 42  86 111]\n",
      " [ 62 117 113]\n",
      " [ 28  53  57]]\n"
     ]
    }
   ],
   "source": [
    "print(f\"matdot=\\n{mat1.dot(mat2)}\")"
   ]
  },
  {
   "cell_type": "markdown",
   "id": "6efa2f72-7587-40fb-9798-98409a754c76",
   "metadata": {},
   "source": [
    "v) Universal Functions"
   ]
  },
  {
   "cell_type": "markdown",
   "id": "ea85f720-a97c-435a-960c-c8a1f7cc23f3",
   "metadata": {},
   "source": [
    "a) Using the array from task 3a, calculate:\n",
    " ● The mean of the entire array.\n",
    " ● The standard deviation of each row.\n",
    " ● The variance of each column.\n",
    " ● The median of the entire array.\n",
    " ● The minimum and maximum values of each row."
   ]
  },
  {
   "cell_type": "code",
   "execution_count": 13,
   "id": "5556ab74-0b6c-4767-a495-011462e307e1",
   "metadata": {},
   "outputs": [
    {
     "name": "stdout",
     "output_type": "stream",
     "text": [
      "[[ 44  69  42 100  39]\n",
      " [ 34  28  96  59   6]\n",
      " [ 43   1  81  33  52]\n",
      " [  0  10  71  64  89]\n",
      " [ 55  86  27  78  72]]\n",
      "mean=51.16\n",
      "standard_deviation=28.98369196634549\n",
      "Variance of each_column=[ 354.16 1102.96  642.64  487.76  810.64]\n",
      "median=52.0\n",
      "min,max of each row=[(39, 100), (6, 96), (1, 81), (0, 89), (27, 86)]\n"
     ]
    }
   ],
   "source": [
    "random_matrix=np.random.randint(0,101,(5,5))\n",
    "print(random_matrix)\n",
    "print(f\"mean={np.mean(random_matrix)}\")\n",
    "print(f\"standard_deviation={np.std(random_matrix)}\")\n",
    "print(f\"Variance of each_column={np.var(random_matrix,axis=0)}\")\n",
    "print(f\"median={np.median(random_matrix)}\")\n",
    "print(f\"min,max of each row={list(zip(random_matrix.min(axis=1),random_matrix.max(axis=1)))}\")"
   ]
  },
  {
   "cell_type": "markdown",
   "id": "747c5672-50ab-4364-8183-1c901974d47e",
   "metadata": {},
   "source": [
    "  vi) Shape Manipulation"
   ]
  },
  {
   "cell_type": "markdown",
   "id": "f48cfd86-f720-46ac-960c-b6f51e4047b5",
   "metadata": {},
   "source": [
    " a) Create a 1D array of 24 random integers between 0 and 100."
   ]
  },
  {
   "cell_type": "code",
   "execution_count": 14,
   "id": "271e6206-339e-4bb7-8291-cbd2a9c4e4e7",
   "metadata": {},
   "outputs": [
    {
     "name": "stdout",
     "output_type": "stream",
     "text": [
      "[[97 40 83 67 89 73 84 62 29 57 14 50 87  7 43 36  4 24 92 35 85 38  8 26]]\n"
     ]
    }
   ],
   "source": [
    "random_matrix=np.random.randint(0,101,(1,24))\n",
    "print(random_matrix)"
   ]
  },
  {
   "cell_type": "markdown",
   "id": "5a32441c-b486-4567-9ba6-923d78e9467a",
   "metadata": {},
   "source": [
    " b) Reshape this array into a 4x6 2D array."
   ]
  },
  {
   "cell_type": "code",
   "execution_count": 15,
   "id": "8d8c3579-6e9a-4de5-a8b9-5283710306aa",
   "metadata": {},
   "outputs": [
    {
     "name": "stdout",
     "output_type": "stream",
     "text": [
      "[[97 40 83 67 89 73]\n",
      " [84 62 29 57 14 50]\n",
      " [87  7 43 36  4 24]\n",
      " [92 35 85 38  8 26]]\n"
     ]
    }
   ],
   "source": [
    "random_matrix=random_matrix.reshape((4,6))\n",
    "print(random_matrix)"
   ]
  },
  {
   "cell_type": "markdown",
   "id": "c5d8bc72-01f7-466a-9c4b-16cc243b12ab",
   "metadata": {},
   "source": [
    "c) Flatten this 2D array back to 1D."
   ]
  },
  {
   "cell_type": "code",
   "execution_count": 16,
   "id": "a34ba4ab-a8aa-4e7b-94c1-b17c70887852",
   "metadata": {},
   "outputs": [
    {
     "name": "stdout",
     "output_type": "stream",
     "text": [
      "[[97 40 83 67 89 73 84 62 29 57 14 50 87  7 43 36  4 24 92 35 85 38  8 26]]\n"
     ]
    }
   ],
   "source": [
    "random_matrix=random_matrix.reshape((1,24))\n",
    "print(random_matrix)\n",
    "random_matrix=random_matrix.reshape((4,6))"
   ]
  },
  {
   "cell_type": "code",
   "execution_count": 17,
   "id": "cd43199e-a50c-441d-bf12-dac1f30bfacd",
   "metadata": {},
   "outputs": [
    {
     "name": "stdout",
     "output_type": "stream",
     "text": [
      "[[97 84 87 92]\n",
      " [40 62  7 35]\n",
      " [83 29 43 85]\n",
      " [67 57 36 38]\n",
      " [89 14  4  8]\n",
      " [73 50 24 26]]\n"
     ]
    }
   ],
   "source": [
    "Transpose=random_matrix.transpose()\n",
    "print(Transpose)"
   ]
  },
  {
   "cell_type": "markdown",
   "id": "d9518f06-b11c-4bd0-9c6b-386abb5d717a",
   "metadata": {},
   "source": [
    "e) Stack two 3x3 arrays vertically, then stack the result with another 3x3\n",
    " array horizontally"
   ]
  },
  {
   "cell_type": "code",
   "execution_count": 18,
   "id": "70641dbc-cecb-4258-b9e3-6bf7e4c8fba1",
   "metadata": {},
   "outputs": [
    {
     "name": "stdout",
     "output_type": "stream",
     "text": [
      "[[9 6 5]\n",
      " [3 1 0]\n",
      " [9 9 8]]\n",
      "[[ 3  0  7]\n",
      " [ 9  7  2]\n",
      " [ 6 10  8]]\n",
      "[[ 2 10  8]\n",
      " [ 1  8  6]\n",
      " [ 0  7  8]\n",
      " [ 8  6  8]\n",
      " [ 3  7  6]\n",
      " [ 5  4  2]]\n",
      "[[ 9  6  5  2 10  8]\n",
      " [ 3  1  0  1  8  6]\n",
      " [ 9  9  8  0  7  8]\n",
      " [ 3  0  7  8  6  8]\n",
      " [ 9  7  2  3  7  6]\n",
      " [ 6 10  8  5  4  2]]\n"
     ]
    }
   ],
   "source": [
    "M1=np.random.randint(0,11,(3,3))\n",
    "M2=np.random.randint(0,11,(3,3))\n",
    "M3=np.random.randint(0,11,(6,3))\n",
    "print(M1,M2,M3,sep='\\n')\n",
    "res=np.vstack((M1,M2))\n",
    "final_res=np.hstack((res,M3))\n",
    "\n",
    "#print(np.concat)\n",
    "\n",
    "print(final_res)"
   ]
  },
  {
   "cell_type": "markdown",
   "id": "ede4ae39-1b8c-4949-87f3-c7979537a610",
   "metadata": {},
   "source": [
    " vii) Copy Methods"
   ]
  },
  {
   "cell_type": "markdown",
   "id": "a071856d-80fd-4b8b-92ac-89b7bce1b3c3",
   "metadata": {},
   "source": [
    " a) Create a 3x3 array of random integers\n",
    " b) Create three copies of this array using direct assignment, view(), and  copy().\n",
    "  c) Modify an element in each copy and explain th \n",
    " differences in how the original array is affected"
   ]
  },
  {
   "cell_type": "code",
   "execution_count": 19,
   "id": "43a6dfc2-a7d4-462c-9823-9ec7e2c26a91",
   "metadata": {},
   "outputs": [
    {
     "name": "stdout",
     "output_type": "stream",
     "text": [
      "original:\n",
      "[[-1 -1 10]\n",
      " [ 1  0  4]\n",
      " [ 1  3  4]]\\Copy1:\n",
      "[[-1 -1 10]\n",
      " [ 1  0  4]\n",
      " [ 1  3  4]]\n",
      "Copy2:\n",
      "[[-1 -1 10]\n",
      " [ 1  0  4]\n",
      " [ 1  3  4]]\n",
      "Copy3:\n",
      "[[ 5 10 -1]\n",
      " [ 1  0  4]\n",
      " [ 1  3  4]]\n"
     ]
    }
   ],
   "source": [
    "M1=np.random.randint(0,11,(3,3))\n",
    "\n",
    "M1_copy1=M1\n",
    "M1_copy2=M1.view()\n",
    "M1_copy3=M1.copy()\n",
    "\n",
    "M1_copy1[0][0]=-1\n",
    "M1_copy2[0][1]=-1\n",
    "M1_copy3[0][2]=-1\n",
    "\n",
    "print(f\"original:\\n{M1}\\Copy1:\\n{M1_copy1}\\nCopy2:\\n{M1_copy2}\\nCopy3:\\n{M1_copy3}\")"
   ]
  },
  {
   "cell_type": "markdown",
   "id": "f3fb1871-43ac-408a-8d86-62e97303cab9",
   "metadata": {},
   "source": [
    "Findings:\n",
    "\n",
    "i)The \"=\" Assignment and the view does shallow copy\n",
    "ii)The .copy attribute does deep copy."
   ]
  },
  {
   "cell_type": "markdown",
   "id": "38a8f804-9ae4-45da-b9a7-fac319cf6b7b",
   "metadata": {},
   "source": [
    " viii) Handling NULL Values"
   ]
  },
  {
   "cell_type": "markdown",
   "id": "97d87f49-0888-4643-85ed-d5c6ddc81733",
   "metadata": {},
   "source": [
    " a) Create a 4x4 array of random floats between 0 and 1.\n"
   ]
  },
  {
   "cell_type": "code",
   "execution_count": 20,
   "id": "61c81412-03bf-44c6-8667-c8d3942af4ab",
   "metadata": {},
   "outputs": [
    {
     "name": "stdout",
     "output_type": "stream",
     "text": [
      "[[0.11358307 0.19905957 0.48670841 0.09932079]\n",
      " [0.5545784  0.71464815 0.8540987  0.58468514]\n",
      " [0.29918737 0.56859284 0.39308243 0.02578195]\n",
      " [0.38557271 0.94892353 0.50707776 0.04602762]]\n"
     ]
    }
   ],
   "source": [
    "M1=np.random.rand(4,4)\n",
    "print(M1)"
   ]
  },
  {
   "cell_type": "markdown",
   "id": "d9e58c88-28c8-4017-9d0e-0b9029a5324d",
   "metadata": {},
   "source": [
    "b) Replace some values with NaN (Not a Number)"
   ]
  },
  {
   "cell_type": "code",
   "execution_count": 21,
   "id": "15844e99-2dea-4fec-ba19-ae24c0cc6206",
   "metadata": {},
   "outputs": [],
   "source": [
    "M1[0][1]=np.nan\n",
    "M1[1][2]=np.nan\n",
    "M1[2][3]=np.nan\n",
    "M1[3][2]=np.nan"
   ]
  },
  {
   "cell_type": "markdown",
   "id": "4dec0122-2aca-456b-87e3-aa630746eec1",
   "metadata": {},
   "source": [
    " c) Use np.isnan() to create a boolean mask identifying the NaN\n",
    " values"
   ]
  },
  {
   "cell_type": "code",
   "execution_count": 22,
   "id": "d079e1ef-9add-4682-b262-891d13d67095",
   "metadata": {},
   "outputs": [
    {
     "name": "stdout",
     "output_type": "stream",
     "text": [
      "[[False  True False False]\n",
      " [False False  True False]\n",
      " [False False False  True]\n",
      " [False False  True False]]\n"
     ]
    }
   ],
   "source": [
    "bool_mask=np.isnan(M1)\n",
    "print(bool_mask)"
   ]
  },
  {
   "cell_type": "markdown",
   "id": "7000f1b4-9ff4-4d65-b6b0-d3905c3d005d",
   "metadata": {},
   "source": [
    " d) Calculate the mean of the array, ignoring the NaN values."
   ]
  },
  {
   "cell_type": "code",
   "execution_count": 23,
   "id": "5993aa28-abf4-44fb-a3dd-dc32d7144e93",
   "metadata": {},
   "outputs": [
    {
     "name": "stdout",
     "output_type": "stream",
     "text": [
      "nan\n"
     ]
    }
   ],
   "source": [
    "print(np.mean(M1))"
   ]
  },
  {
   "cell_type": "markdown",
   "id": "5bef45b2-5810-4870-9832-a37076bebe9e",
   "metadata": {},
   "source": [
    " ix) Advanced Challenge"
   ]
  },
  {
   "cell_type": "markdown",
   "id": "bdca685a-229b-4b12-b429-987c874d2914",
   "metadata": {},
   "source": [
    " a) Create a 10x10 array of random integers between 1 and 100."
   ]
  },
  {
   "cell_type": "code",
   "execution_count": 24,
   "id": "6dc00291-12ba-4403-933b-9a2fc88b15fc",
   "metadata": {
    "scrolled": true
   },
   "outputs": [
    {
     "name": "stdout",
     "output_type": "stream",
     "text": [
      "[[ 73   2  85  73  10  16  17  63  12   3]\n",
      " [ 74  81  20  33  28  34  52  17  75  50]\n",
      " [ 64  86  27  24  87  28  54   2  40  17]\n",
      " [ 51  61  31  16  88  33  75  26  50  58]\n",
      " [ 63  63  14  52   3  84  63  76  35  93]\n",
      " [ 35   7  15  66  67  93  52  43   4 100]\n",
      " [ 13   8  85  37  90  30   4  79  26  51]\n",
      " [ 45  86  42  60  77  47  33  19  80  72]\n",
      " [ 98  66  21  32  99  41  78  32  48  27]\n",
      " [  4  43  94  69  75  82  75  96  10  69]]\n"
     ]
    }
   ],
   "source": [
    "Adv_Matrix=np.random.randint(1,101,(10,10))\n",
    "print(Adv_Matrix)"
   ]
  },
  {
   "cell_type": "code",
   "execution_count": 25,
   "id": "82c060e6-4802-4be3-9ffa-dbed47c01121",
   "metadata": {},
   "outputs": [
    {
     "name": "stdout",
     "output_type": "stream",
     "text": [
      "[(5, 9), (8, 4), (8, 0), (9, 7), (9, 2)]\n"
     ]
    }
   ],
   "source": [
    "Adv_Matrix=Adv_Matrix.flatten()\n",
    "indices_flattend=np.argsort(Adv_Matrix)\n",
    "indices_flattend=indices_flattend[-1:-6:-1]\n",
    "indices_flattend=np.unravel_index(indices_flattend,(10,10))\n",
    "index=list(zip(indices_flattend[0],indices_flattend[1]))\n",
    "print(index)\n"
   ]
  },
  {
   "cell_type": "markdown",
   "id": "69a4381d-16ca-408e-b1a0-f599e0d3f253",
   "metadata": {},
   "source": [
    " c) Calculate the running average along each row (hint: look into\n",
    " np.cumsum())"
   ]
  },
  {
   "cell_type": "code",
   "execution_count": 26,
   "id": "b6941341-1e51-41b0-8bf5-8de85691266b",
   "metadata": {},
   "outputs": [
    {
     "name": "stdout",
     "output_type": "stream",
     "text": [
      "Matrix=\n",
      "[[10 10 21 49 26 17 69 57 49 13]\n",
      " [55 89 70 45 22 20  5 43 39 41]\n",
      " [83 81 25 21 42 51 10 50 70 54]\n",
      " [67 13 66 65 39 19 86 50 30 15]\n",
      " [96 44 98 50 92 71 27  2 78 36]\n",
      " [ 1 19 68 59 49 47 16 62 84 54]\n",
      " [74 40 69 48 33 16 86 12 68 31]\n",
      " [35 93 72 92  4 14 31 11 35 49]\n",
      " [64 75 50 22 19 76  3 32 69 59]\n",
      " [19  6 88 85 23 57 50 53 27  9]]\n",
      "res=\n",
      "[[10.         10.         13.66666667 22.5        23.2        22.16666667\n",
      "  28.85714286 32.375      34.22222222 32.1       ]\n",
      " [55.         72.         71.33333333 64.75       56.2        50.16666667\n",
      "  43.71428571 43.625      43.11111111 42.9       ]\n",
      " [83.         82.         63.         52.5        50.4        50.5\n",
      "  44.71428571 45.375      48.11111111 48.7       ]\n",
      " [67.         40.         48.66666667 52.75       50.         44.83333333\n",
      "  50.71428571 50.625      48.33333333 45.        ]\n",
      " [96.         70.         79.33333333 72.         76.         75.16666667\n",
      "  68.28571429 60.         62.         59.4       ]\n",
      " [ 1.         10.         29.33333333 36.75       39.2        40.5\n",
      "  37.         40.125      45.         45.9       ]\n",
      " [74.         57.         61.         57.75       52.8        46.66666667\n",
      "  52.28571429 47.25       49.55555556 47.7       ]\n",
      " [35.         64.         66.66666667 73.         59.2        51.66666667\n",
      "  48.71428571 44.         43.         43.6       ]\n",
      " [64.         69.5        63.         52.75       46.         51.\n",
      "  44.14285714 42.625      45.55555556 46.9       ]\n",
      " [19.         12.5        37.66666667 49.5        44.2        46.33333333\n",
      "  46.85714286 47.625      45.33333333 41.7       ]]\n"
     ]
    }
   ],
   "source": [
    "Adv_Matrix=np.random.randint(1,101,(10,10))\n",
    "div=np.arange(1,11)\n",
    "cum_sum_matrix=np.cumsum(Adv_Matrix,axis=1)\n",
    "res=cum_sum_matrix/div\n",
    "print(f\"Matrix=\\n{Adv_Matrix}\")\n",
    "print(f\"res=\\n{res}\")"
   ]
  },
  {
   "cell_type": "markdown",
   "id": "1d8f12c6-9060-4116-9180-45fe57258009",
   "metadata": {},
   "source": [
    "d) Normalize each column of the array so that it sums to 1"
   ]
  },
  {
   "cell_type": "code",
   "execution_count": 27,
   "id": "852ae8b7-e60c-4307-9924-0d4a0191e0d4",
   "metadata": {},
   "outputs": [
    {
     "name": "stdout",
     "output_type": "stream",
     "text": [
      "Adv_Matrix:\n",
      "[[0.04153355 0.08536585 0.08675799 0.01287554 0.02358491 0.08860759\n",
      "  0.12317328 0.08389262 0.04145078 0.16122449]\n",
      " [0.07827476 0.14146341 0.07534247 0.01072961 0.03066038 0.10307414\n",
      "  0.02296451 0.04362416 0.06217617 0.0122449 ]\n",
      " [0.11501597 0.18536585 0.00228311 0.04291845 0.17924528 0.15551537\n",
      "  0.14822547 0.13758389 0.05699482 0.18367347]\n",
      " [0.09584665 0.15121951 0.07077626 0.05793991 0.14386792 0.03435805\n",
      "  0.04384134 0.12751678 0.00259067 0.03469388]\n",
      " [0.07827476 0.01219512 0.0456621  0.16738197 0.04009434 0.01265823\n",
      "  0.00417537 0.06711409 0.25647668 0.08979592]\n",
      " [0.13578275 0.11463415 0.14383562 0.20171674 0.00235849 0.15370705\n",
      "  0.20250522 0.0704698  0.24870466 0.14897959]\n",
      " [0.13578275 0.06585366 0.09817352 0.03004292 0.10849057 0.01265823\n",
      "  0.06471816 0.16778523 0.00777202 0.08571429]\n",
      " [0.04792332 0.00243902 0.15296804 0.18240343 0.22877358 0.16094033\n",
      "  0.13778706 0.09899329 0.10621762 0.06734694]\n",
      " [0.14217252 0.22439024 0.11187215 0.10515021 0.17688679 0.11392405\n",
      "  0.17327766 0.04697987 0.02072539 0.16734694]\n",
      " [0.12939297 0.01707317 0.21232877 0.1888412  0.06603774 0.16455696\n",
      "  0.07933194 0.15604027 0.19689119 0.04897959]]\n",
      " div_col:\n",
      "[626 410 438 466 424 553 479 596 386 490]\n",
      "[1. 1. 1. 1. 1. 1. 1. 1. 1. 1.]\n"
     ]
    }
   ],
   "source": [
    "Adv_Matrix=np.random.randint(1,101,(10,10))\n",
    "div_col=np.sum(Adv_Matrix,axis=0)\n",
    "Adv_Matrix=Adv_Matrix/div_col\n",
    "print(f\"Adv_Matrix:\\n{Adv_Matrix}\\n div_col:\\n{div_col}\")\n",
    "print(np.sum(Adv_Matrix,axis=0))"
   ]
  },
  {
   "cell_type": "markdown",
   "id": "71b8e397-4f6b-4c70-a1de-e5938752d4b4",
   "metadata": {},
   "source": [
    "## Question 2"
   ]
  },
  {
   "cell_type": "markdown",
   "id": "62ac66f6-86b6-437b-a5dd-df65bc3cf7f2",
   "metadata": {},
   "source": [
    " Write a python program to perform matrix operations on an M x N matrix and\n",
    " solve a system of linear equations. Use inbuilt functions to implement the\n",
    " operations. Get two matrices from the user. The program should support the\n",
    " following Menus,\n",
    " 1. Matrix Addition\n",
    " 2. Matrix Subtraction\n",
    " 3. Scalar Matrix Multiplication\n",
    " 4. Elementwise Matrix Multiplication\n",
    " 5. Matrix Multiplication\n",
    " 6. Matrix Transpose\n",
    " 7. Trace of a Matrix\n",
    " 8. Solve System of Linear Equations\n",
    " 9. Determinant\n",
    " 10. Inverse\n",
    " 11. Eigen Value and Eigen Vector\n",
    " 12. Exit\n"
   ]
  },
  {
   "cell_type": "code",
   "execution_count": null,
   "id": "e7ff785e-b6fa-4e36-83d5-f95fbf719b09",
   "metadata": {
    "scrolled": true
   },
   "outputs": [
    {
     "name": "stdout",
     "output_type": "stream",
     "text": [
      "Waiting for  Matrix Initialization...\n"
     ]
    }
   ],
   "source": [
    "#Note if you get an error make sure to pip insall tabulate\n",
    "\n",
    "from IPython.display import clear_output\n",
    "import numpy as np\n",
    "from tabulate import *\n",
    "import time\n",
    "def setmatrix():\n",
    "    M1=np.array(eval(input(\"Enter the Matrix1 as a list of list: \")))\n",
    "    M2=np.array(eval(input(\"Enter the Matrix2 as a list of list: \")))\n",
    "    return M1,M2\n",
    "\n",
    "\n",
    "\n",
    "\n",
    "print(\"Waiting for  Matrix Initialization...\")\n",
    "M1,M2=setmatrix()\n",
    "\n",
    "while True:\n",
    "    \n",
    "    print('''The choices are:\\n\n",
    "            1.Matrix Addition\\n\n",
    "            2.Matrix Subtraction\\n\n",
    "            3.Scalar Matrix Multiplication\\n\n",
    "            4.Elementwise Matrix Multiplication\\n\n",
    "            5.Matrix Multiplication\\n\n",
    "            6.Matrix Transpose\\n\n",
    "            7.Trace of a Matrix\\n\n",
    "            8.Solve System of Linear Equations\\n\n",
    "            9.Determinant\\n\n",
    "            10.Inverse\\n\n",
    "            11.Eigen Value and Eigen Vector\\n\n",
    "            12.reset Matrices\\n\n",
    "            13.exit\\n''')\n",
    "    \n",
    "    choice=int(input(\"Enter the choice: \"))\n",
    "    if(choice==1):\n",
    "        res=M1+M2\n",
    "        print(tabulate(res,tablefmt='grid'))\n",
    "        \n",
    "    elif(choice==2):\n",
    "        res=M1-M2\n",
    "        print(tabulate(res,tablefmt='grid'))\n",
    "        \n",
    "    elif(choice==3):\n",
    "        scalar=int(input(\"Enter the scalar to be multiplied with: \"))\n",
    "        matrix=int(input(\"Choose between matrix to multiply scalar with:\\n 1-> matrix1\\n 2->matrix2\\n \"))\n",
    "        if matrix==1:\n",
    "            matrix=M1\n",
    "        else:\n",
    "            matrix=M2                #default M2 is selected\n",
    "        res=scalar*M2\n",
    "        print(tabulate(res,tablefmt='grid'))\n",
    "    elif(choice==4):\n",
    "        res=M1*M2\n",
    "        print(tabulate(res,tablefmt='grid'))\n",
    "    elif(choice==5):\n",
    "        res=M1.dot(M2)\n",
    "        print(tabulate(res,tablefmt='grid'))\n",
    "    elif(choice==6):\n",
    "        matrix=int(input(\"Choose between matrix to Transpose :\\n 1-> matrix1\\n 2->matrix2\\n \"))\n",
    "        if matrix==1:\n",
    "            matrix=M1\n",
    "        else:\n",
    "            matrix=M2                #default M2 is selected\n",
    "        res=matrix.T\n",
    "        print(tabulate(res,tablefmt='grid'))\n",
    "    elif(choice==7):\n",
    "        matrix=int(input(\"Choose between matrix to find trace:\\n 1-> matrix1\\n 2->matrix2\\n \"))\n",
    "        if matrix==1:\n",
    "            matrix=M1\n",
    "        else:\n",
    "            matrix=M2                #default M2 is selected\n",
    "        res=np.trace(matrix)\n",
    "        print(res)\n",
    "    elif(choice==8):\n",
    "        print(\"Solves equation of the form Ax=B\")\n",
    "        A=eval(input(\"Enter the value of A\"))\n",
    "        B=eval(input(\"Enter the value of B\"))\n",
    "        res=np.linalg.solve(A,B)\n",
    "        print(res)\n",
    "        \n",
    "    elif(choice==9):\n",
    "         matrix=int(input(\"Choose between matrix for determinant:\\n 1-> matrix1\\n 2->matrix2\\n \"))\n",
    "         if matrix==1:\n",
    "            matrix=M1\n",
    "         else:\n",
    "            matrix=M2                #default M2 is selected\n",
    "         res=np.linalg.det(matrix)\n",
    "         print(res)\n",
    "    elif(choice==10):\n",
    "        matrix=int(input(\"Choose between matrix for Inverse:\\n 1-> matrix1\\n 2->matrix2\\n \"))\n",
    "        if matrix==1:\n",
    "            matrix=M1\n",
    "        else:\n",
    "            matrix=M2                #default M2 is selected\n",
    "        res=np.linalg.inv(matrix)\n",
    "        print(res)\n",
    "    elif(choice==11):\n",
    "        matrix=int(input(\"Choose between matrix for Inverse:\\n 1-> matrix1\\n 2->matrix2\\n \"))\n",
    "        if matrix==1:\n",
    "            matrix=M1\n",
    "        else:\n",
    "            matrix=M2                #default M2 is selected\n",
    "        eigenvalues, eigenvectors = np.linalg.eig(matrix)\n",
    "        print(f\"eigenvalues:{eigenvalues}\\n eigenvectors:{eigenvectors}\")\n",
    "    elif(choice==12):\n",
    "        M1,M2=setmatrix()\n",
    "        print(\"Matrix set successfully\")\n",
    "    elif(choice==13):\n",
    "        print(\"Ending Program...\")\n",
    "        time.sleep(5)\n",
    "        print(\"Program Ended\")\n",
    "        break\n",
    "    else:\n",
    "        print(\"Enter a valid choice\\n\")\n",
    "    \n",
    "    \n",
    "    \n",
    "    \n",
    "    "
   ]
  },
  {
   "cell_type": "code",
   "execution_count": null,
   "id": "b3382cd1-98fc-49f9-8ead-5c9c38ca0294",
   "metadata": {},
   "outputs": [],
   "source": []
  },
  {
   "cell_type": "code",
   "execution_count": null,
   "id": "384ba3b2-8392-4612-a531-a2aaeeccf4b6",
   "metadata": {},
   "outputs": [],
   "source": []
  }
 ],
 "metadata": {
  "kernelspec": {
   "display_name": "Python 3 (ipykernel)",
   "language": "python",
   "name": "python3"
  },
  "language_info": {
   "codemirror_mode": {
    "name": "ipython",
    "version": 3
   },
   "file_extension": ".py",
   "mimetype": "text/x-python",
   "name": "python",
   "nbconvert_exporter": "python",
   "pygments_lexer": "ipython3",
   "version": "3.10.11"
  },
  "widgets": {
   "application/vnd.jupyter.widget-state+json": {
    "state": {},
    "version_major": 2,
    "version_minor": 0
   }
  }
 },
 "nbformat": 4,
 "nbformat_minor": 5
}
