{
 "cells": [
  {
   "cell_type": "markdown",
   "id": "332972fe-51d5-479d-875c-9dbde6740bee",
   "metadata": {},
   "source": [
    "# Exercise 1 \n",
    "### A Amar Rohith \n",
    "### EC21B1106"
   ]
  },
  {
   "cell_type": "markdown",
   "id": "f72997eb-84c9-4645-a039-68b3f55d0e17",
   "metadata": {},
   "source": [
    "## Question 1"
   ]
  },
  {
   "cell_type": "code",
   "execution_count": 1,
   "id": "e0d42e9f-d2e4-448d-925f-1b6a0f42f640",
   "metadata": {},
   "outputs": [],
   "source": [
    "import numpy as np"
   ]
  },
  {
   "cell_type": "markdown",
   "id": "efd5adb4-875b-4f86-b345-63a1179cef78",
   "metadata": {},
   "source": [
    "Array Creation and Basic Operation"
   ]
  },
  {
   "cell_type": "markdown",
   "id": "7f55303c-bcf5-480e-9c8d-a9632d8f81e4",
   "metadata": {},
   "source": [
    "a)Create a 1D array of numbers from 0 to 19 using np.arange(). "
   ]
  },
  {
   "cell_type": "code",
   "execution_count": 38,
   "id": "8f86387c-46c9-4dce-9ccd-f0990f21cddf",
   "metadata": {},
   "outputs": [
    {
     "name": "stdout",
     "output_type": "stream",
     "text": [
      "[ 0  1  2  3  4  5  6  7  8  9 10 11 12 13 14 15 16 17 18 19]\n"
     ]
    }
   ],
   "source": [
    "Arr=np.arange(0,20)\n",
    "print(Arr)"
   ]
  },
  {
   "cell_type": "markdown",
   "id": "3e238626-1dae-4ae4-8063-c465aef253da",
   "metadata": {},
   "source": [
    "b) Reshape this array into a 4x5 2D array.\n"
   ]
  },
  {
   "cell_type": "code",
   "execution_count": 40,
   "id": "03f4a01c-af30-4582-aac4-28c157249e6e",
   "metadata": {
    "scrolled": true
   },
   "outputs": [
    {
     "name": "stdout",
     "output_type": "stream",
     "text": [
      "[[ 0  1  2  3  4]\n",
      " [ 5  6  7  8  9]\n",
      " [10 11 12 13 14]\n",
      " [15 16 17 18 19]]\n"
     ]
    }
   ],
   "source": [
    "'''np.reshape(Arr,(4,5))\n",
    "print(Arr)'''\n",
    "\n",
    "# or use the object to call the function\n",
    "\n",
    "Arr=Arr.reshape((4,5))\n",
    "print(Arr)"
   ]
  },
  {
   "cell_type": "markdown",
   "id": "0f582c2a-793e-460a-8d26-01714a3b48b3",
   "metadata": {},
   "source": [
    " c) Create a 3x3 array of all zeros, and another 3x3 array of all ones. \n"
   ]
  },
  {
   "cell_type": "code",
   "execution_count": 24,
   "id": "7b1e0719-3b8c-4d22-bcc0-6c41110ddddb",
   "metadata": {},
   "outputs": [
    {
     "name": "stdout",
     "output_type": "stream",
     "text": [
      "[[0. 0. 0.]\n",
      " [0. 0. 0.]\n",
      " [0. 0. 0.]]\n",
      "[[1. 1. 1.]\n",
      " [1. 1. 1.]\n",
      " [1. 1. 1.]]\n"
     ]
    }
   ],
   "source": [
    "zeros=np.zeros((3,3))\n",
    "ones=np.ones((3,3))\n",
    "print(zeros,ones,sep='\\n')"
   ]
  },
  {
   "cell_type": "markdown",
   "id": "fe9c9819-0159-41d7-b125-6de06b2a1a0b",
   "metadata": {},
   "source": [
    "d)Generate a 1D array of 10 evenly spaced numbers between 1 and 100 using np.linspace().\n"
   ]
  },
  {
   "cell_type": "code",
   "execution_count": 27,
   "id": "8ae55f42-8895-44ae-b1ac-c9c07723b969",
   "metadata": {},
   "outputs": [
    {
     "name": "stdout",
     "output_type": "stream",
     "text": [
      "[  1.  12.  23.  34.  45.  56.  67.  78.  89. 100.]\n"
     ]
    }
   ],
   "source": [
    "ans=np.linspace(1,100,10)\n",
    "print(ans)"
   ]
  },
  {
   "cell_type": "markdown",
   "id": "9958e94a-c5e3-44d6-81b2-926b2f7ee785",
   "metadata": {},
   "source": [
    " ii) Indexing, Slicing, and Iterating"
   ]
  },
  {
   "cell_type": "code",
   "execution_count": 35,
   "id": "60acf8e6-e7dc-4d38-844b-a03ef52f57ac",
   "metadata": {},
   "outputs": [
    {
     "name": "stdout",
     "output_type": "stream",
     "text": [
      "13\n",
      "[5 6 7 8 9]\n",
      "[ 4  9 14 19]\n"
     ]
    }
   ],
   "source": [
    "#1 \n",
    "print(Arr[2][3]) # or print(Arr[2,3])\n",
    "#2\n",
    "print(Arr[1][:]) # or print(Arr[1,:])\n",
    "#3\n",
    "print(Arr[:,-1])"
   ]
  },
  {
   "cell_type": "markdown",
   "id": "61dad4cc-6787-4a59-aa03-5d06e5c12e53",
   "metadata": {},
   "source": [
    " b) Reverse the order of elements in the second row."
   ]
  },
  {
   "cell_type": "code",
   "execution_count": 41,
   "id": "a918bf7a-401a-406a-b041-40b8827db5f1",
   "metadata": {},
   "outputs": [
    {
     "name": "stdout",
     "output_type": "stream",
     "text": [
      "prev arr=[[ 0  1  2  3  4]\n",
      " [ 5  6  7  8  9]\n",
      " [10 11 12 13 14]\n",
      " [15 16 17 18 19]]\n",
      "After arr=[[ 0  1  2  3  4]\n",
      " [ 9  8  7  6  5]\n",
      " [10 11 12 13 14]\n",
      " [15 16 17 18 19]]\n"
     ]
    }
   ],
   "source": [
    "print(f\"prev arr={Arr}\")\n",
    "Arr[1,:]=Arr[1,:][::-1]\n",
    "print(f\"After arr={Arr}\")"
   ]
  },
  {
   "cell_type": "markdown",
   "id": "703c780f-61bf-4626-819d-fb5b8d97c927",
   "metadata": {},
   "source": [
    "Create a 3x3 array with random integers between 1 and 100, then find\n",
    " all elements greater than 50."
   ]
  },
  {
   "cell_type": "code",
   "execution_count": 45,
   "id": "ac1d9dc6-ec99-4640-932b-764685611877",
   "metadata": {},
   "outputs": [
    {
     "name": "stdout",
     "output_type": "stream",
     "text": [
      "[[67 42 28]\n",
      " [22 81 28]\n",
      " [13 37 11]]\n",
      "[67 81]\n"
     ]
    }
   ],
   "source": [
    "random_matrix=np.random.randint(1,101,(3,3))\n",
    "ele50=random_matrix[random_matrix>50]\n",
    "\n",
    "print(random_matrix)\n",
    "print(ele50)"
   ]
  },
  {
   "cell_type": "markdown",
   "id": "e83d7f7b-25f0-4374-837b-752dee379bf8",
   "metadata": {},
   "source": [
    "iii) Conditional Statements and Boolean Operations a) Create a 5x5\n",
    " array of random integers between 0 and 100. b) Create a boolean mask\n",
    " for elements between 30 and 70 (inclusive). c) Use this mask to\n",
    " replace all elements outside this range with the value-1"
   ]
  },
  {
   "cell_type": "code",
   "execution_count": 53,
   "id": "245bf096-697f-4b61-9e72-6c88f3ac2c6e",
   "metadata": {},
   "outputs": [
    {
     "name": "stdout",
     "output_type": "stream",
     "text": [
      "[[-1 68 -1 54 -1]\n",
      " [34 -1 -1 -1 66]\n",
      " [-1 -1 48 -1 -1]\n",
      " [-1 70 -1 -1 -1]\n",
      " [-1 41 60 61 66]]\n"
     ]
    }
   ],
   "source": [
    "random_matrix=np.random.randint(1,101,(5,5))\n",
    "ele30to70=(random_matrix>=30)&(random_matrix<=70)\n",
    "random_matrix[~ele30to70]=-1\n",
    "print(random_matrix)\n"
   ]
  },
  {
   "cell_type": "markdown",
   "id": "38a84bf4-8a86-43fd-9c35-a180d96add42",
   "metadata": {},
   "source": [
    " iv) Basic Mathematical Operations\n"
   ]
  },
  {
   "cell_type": "markdown",
   "id": "f3667279-ab9c-493e-b26e-b4be7ce10802",
   "metadata": {},
   "source": [
    "a) Create two 3x3 arrays with random integers between 1 and 10"
   ]
  },
  {
   "cell_type": "code",
   "execution_count": 60,
   "id": "6167d42a-3aa5-4b73-9034-e6c27ac42970",
   "metadata": {},
   "outputs": [
    {
     "name": "stdout",
     "output_type": "stream",
     "text": [
      "mat1=\n",
      "[[4 1 8]\n",
      " [2 1 5]\n",
      " [5 8 8]] \n",
      " mat2=\n",
      "[[4 9 5]\n",
      " [9 3 5]\n",
      " [3 2 5]]\n"
     ]
    }
   ],
   "source": [
    "mat1=np.random.randint(1,11,(3,3))\n",
    "mat2=np.random.randint(1,11,(3,3))\n",
    "print(f\"mat1=\\n{mat1} \\n mat2=\\n{mat2}\")"
   ]
  },
  {
   "cell_type": "markdown",
   "id": "473b5c52-8f8b-484a-a699-4a20c46ae7a8",
   "metadata": {},
   "source": [
    " b) Perform element-wise addition, subtraction, multiplication, and\n",
    " division on these arrays"
   ]
  },
  {
   "cell_type": "code",
   "execution_count": 61,
   "id": "e84a467c-1417-4519-af26-0490c6327a37",
   "metadata": {},
   "outputs": [
    {
     "name": "stdout",
     "output_type": "stream",
     "text": [
      "matadd=\n",
      "[[ 8 10 13]\n",
      " [11  4 10]\n",
      " [ 8 10 13]]\n",
      "matsub=\n",
      "[[ 0 -8  3]\n",
      " [-7 -2  0]\n",
      " [ 2  6  3]]\n",
      "matmul=\n",
      "[[16  9 40]\n",
      " [18  3 25]\n",
      " [15 16 40]]\n",
      "matdiv=\n",
      "[[1.         0.11111111 1.6       ]\n",
      " [0.22222222 0.33333333 1.        ]\n",
      " [1.66666667 4.         1.6       ]]\n"
     ]
    }
   ],
   "source": [
    "\n",
    "print(f\"matadd=\\n{mat1+mat2}\")\n",
    "print(f\"matsub=\\n{mat1-mat2}\")\n",
    "print(f\"matmul=\\n{mat1*mat2}\")\n",
    "print(f\"matdiv=\\n{mat1/mat2}\")"
   ]
  },
  {
   "cell_type": "markdown",
   "id": "a9602099-cc2c-4406-8144-a42cd57420e5",
   "metadata": {},
   "source": [
    " c) Calculate the dot product of these two arrays."
   ]
  },
  {
   "cell_type": "code",
   "execution_count": 63,
   "id": "a29274d1-8b8f-46b8-a886-13fac776a38a",
   "metadata": {},
   "outputs": [
    {
     "name": "stdout",
     "output_type": "stream",
     "text": [
      "matdot=\n",
      "[[ 49  55  65]\n",
      " [ 32  31  40]\n",
      " [116  85 105]]\n"
     ]
    }
   ],
   "source": [
    "print(f\"matdot=\\n{mat1.dot(mat2)}\")"
   ]
  },
  {
   "cell_type": "markdown",
   "id": "6efa2f72-7587-40fb-9798-98409a754c76",
   "metadata": {},
   "source": [
    "v) Universal Functions"
   ]
  },
  {
   "cell_type": "markdown",
   "id": "ea85f720-a97c-435a-960c-c8a1f7cc23f3",
   "metadata": {},
   "source": [
    "a) Using the array from task 3a, calculate:\n",
    " ● The mean of the entire array.\n",
    " ● The standard deviation of each row.\n",
    " ● The variance of each column.\n",
    " ● The median of the entire array.\n",
    " ● The minimum and maximum values of each row."
   ]
  },
  {
   "cell_type": "code",
   "execution_count": 74,
   "id": "5556ab74-0b6c-4767-a495-011462e307e1",
   "metadata": {},
   "outputs": [
    {
     "name": "stdout",
     "output_type": "stream",
     "text": [
      "[[76 13 86 27 40]\n",
      " [ 5 45 90 14 46]\n",
      " [55 80 25 30 64]\n",
      " [14 63 88 69  4]\n",
      " [66 32 27 30  0]]\n",
      "mean=43.56\n",
      "standard_deviation=27.882725835183333\n",
      "Variance of each_column=[809.36 545.84 924.56 341.2  616.96]\n",
      "median=40.0\n",
      "min,max of each row=[(13, 86), (5, 90), (25, 80), (4, 88), (0, 66)]\n"
     ]
    }
   ],
   "source": [
    "random_matrix=np.random.randint(0,101,(5,5))\n",
    "print(random_matrix)\n",
    "print(f\"mean={np.mean(random_matrix)}\")\n",
    "print(f\"standard_deviation={np.std(random_matrix)}\")\n",
    "print(f\"Variance of each_column={np.var(random_matrix,axis=0)}\")\n",
    "print(f\"median={np.median(random_matrix)}\")\n",
    "print(f\"min,max of each row={list(zip(random_matrix.min(axis=1),random_matrix.max(axis=1)))}\")"
   ]
  },
  {
   "cell_type": "markdown",
   "id": "747c5672-50ab-4364-8183-1c901974d47e",
   "metadata": {},
   "source": [
    "  vi) Shape Manipulation"
   ]
  },
  {
   "cell_type": "markdown",
   "id": "f48cfd86-f720-46ac-960c-b6f51e4047b5",
   "metadata": {},
   "source": [
    " a) Create a 1D array of 24 random integers between 0 and 100."
   ]
  },
  {
   "cell_type": "code",
   "execution_count": 80,
   "id": "271e6206-339e-4bb7-8291-cbd2a9c4e4e7",
   "metadata": {},
   "outputs": [
    {
     "name": "stdout",
     "output_type": "stream",
     "text": [
      "[[32  5 97 67 50 25 99 73 74 82 79 40 22 84 25 79 24 92 94 26 72 48 17 12]]\n"
     ]
    }
   ],
   "source": [
    "random_matrix=np.random.randint(0,101,(1,24))\n",
    "print(random_matrix)"
   ]
  },
  {
   "cell_type": "markdown",
   "id": "5a32441c-b486-4567-9ba6-923d78e9467a",
   "metadata": {},
   "source": [
    " b) Reshape this array into a 4x6 2D array."
   ]
  },
  {
   "cell_type": "code",
   "execution_count": 89,
   "id": "8d8c3579-6e9a-4de5-a8b9-5283710306aa",
   "metadata": {},
   "outputs": [
    {
     "name": "stdout",
     "output_type": "stream",
     "text": [
      "[[32  5 97 67 50 25]\n",
      " [99 73 74 82 79 40]\n",
      " [22 84 25 79 24 92]\n",
      " [94 26 72 48 17 12]]\n"
     ]
    }
   ],
   "source": [
    "random_matrix=random_matrix.reshape((4,6))\n",
    "print(random_matrix)"
   ]
  },
  {
   "cell_type": "markdown",
   "id": "c5d8bc72-01f7-466a-9c4b-16cc243b12ab",
   "metadata": {},
   "source": [
    "c) Flatten this 2D array back to 1D."
   ]
  },
  {
   "cell_type": "code",
   "execution_count": 92,
   "id": "a34ba4ab-a8aa-4e7b-94c1-b17c70887852",
   "metadata": {},
   "outputs": [
    {
     "name": "stdout",
     "output_type": "stream",
     "text": [
      "[[32  5 97 67 50 25 99 73 74 82 79 40 22 84 25 79 24 92 94 26 72 48 17 12]]\n"
     ]
    }
   ],
   "source": [
    "random_matrix=random_matrix.reshape((1,24))\n",
    "print(random_matrix)\n",
    "random_matrix=random_matrix.reshape((4,6))"
   ]
  },
  {
   "cell_type": "code",
   "execution_count": 95,
   "id": "cd43199e-a50c-441d-bf12-dac1f30bfacd",
   "metadata": {},
   "outputs": [
    {
     "name": "stdout",
     "output_type": "stream",
     "text": [
      "[[32 99 22 94]\n",
      " [ 5 73 84 26]\n",
      " [97 74 25 72]\n",
      " [67 82 79 48]\n",
      " [50 79 24 17]\n",
      " [25 40 92 12]]\n"
     ]
    }
   ],
   "source": [
    "Transpose=random_matrix.transpose()\n",
    "print(Transpose)"
   ]
  },
  {
   "cell_type": "markdown",
   "id": "d9518f06-b11c-4bd0-9c6b-386abb5d717a",
   "metadata": {},
   "source": [
    "e) Stack two 3x3 arrays vertically, then stack the result with another 3x3\n",
    " array horizontally"
   ]
  },
  {
   "cell_type": "code",
   "execution_count": 99,
   "id": "70641dbc-cecb-4258-b9e3-6bf7e4c8fba1",
   "metadata": {},
   "outputs": [
    {
     "name": "stdout",
     "output_type": "stream",
     "text": [
      "[[ 5  3  9]\n",
      " [ 3  9 10]\n",
      " [ 2  0  1]]\n",
      "[[ 6  4  9]\n",
      " [ 6  5  1]\n",
      " [10  6  9]]\n",
      "[[ 7  2  3]\n",
      " [ 3  6  5]\n",
      " [ 6 10  2]\n",
      " [ 8  1  6]\n",
      " [ 3 10  6]\n",
      " [ 4  7  6]]\n",
      "[[ 5  3  9  7  2  3]\n",
      " [ 3  9 10  3  6  5]\n",
      " [ 2  0  1  6 10  2]\n",
      " [ 6  4  9  8  1  6]\n",
      " [ 6  5  1  3 10  6]\n",
      " [10  6  9  4  7  6]]\n"
     ]
    }
   ],
   "source": [
    "M1=np.random.randint(0,11,(3,3))\n",
    "M2=np.random.randint(0,11,(3,3))\n",
    "M3=np.random.randint(0,11,(6,3))\n",
    "print(M1,M2,M3,sep='\\n')\n",
    "res=np.vstack((M1,M2))\n",
    "final_res=np.hstack((res,M3))\n",
    "\n",
    "print(final_res)"
   ]
  },
  {
   "cell_type": "markdown",
   "id": "ede4ae39-1b8c-4949-87f3-c7979537a610",
   "metadata": {},
   "source": [
    " vii) Copy Methods"
   ]
  },
  {
   "cell_type": "markdown",
   "id": "a071856d-80fd-4b8b-92ac-89b7bce1b3c3",
   "metadata": {},
   "source": [
    " a) Create a 3x3 array of random integers\n",
    " b) Create three copies of this array using direct assignment, view(), and  copy().\n",
    "  c) Modify an element in each copy and explain th \n",
    " differences in how the original array is affected"
   ]
  },
  {
   "cell_type": "code",
   "execution_count": 106,
   "id": "43a6dfc2-a7d4-462c-9823-9ec7e2c26a91",
   "metadata": {},
   "outputs": [
    {
     "name": "stdout",
     "output_type": "stream",
     "text": [
      "original:\n",
      "[[-1 -1  1]\n",
      " [ 1  9  4]\n",
      " [ 0  4  6]]\\Copy1:\n",
      "[[-1 -1  1]\n",
      " [ 1  9  4]\n",
      " [ 0  4  6]]\n",
      "Copy2:\n",
      "[[-1 -1  1]\n",
      " [ 1  9  4]\n",
      " [ 0  4  6]]\n",
      "Copy3:\n",
      "[[ 8  4 -1]\n",
      " [ 1  9  4]\n",
      " [ 0  4  6]]\n"
     ]
    }
   ],
   "source": [
    "M1=np.random.randint(0,11,(3,3))\n",
    "\n",
    "M1_copy1=M1\n",
    "M1_copy2=M1.view()\n",
    "M1_copy3=M1.copy()\n",
    "\n",
    "M1_copy1[0][0]=-1\n",
    "M1_copy2[0][1]=-1\n",
    "M1_copy3[0][2]=-1\n",
    "\n",
    "print(f\"original:\\n{M1}\\Copy1:\\n{M1_copy1}\\nCopy2:\\n{M1_copy2}\\nCopy3:\\n{M1_copy3}\")"
   ]
  },
  {
   "cell_type": "markdown",
   "id": "f3fb1871-43ac-408a-8d86-62e97303cab9",
   "metadata": {},
   "source": [
    "Findings:\n",
    "\n",
    "i)The \"=\" Assignment and the view does shallow copy\n",
    "ii)The .copy attribute does deep copy."
   ]
  },
  {
   "cell_type": "markdown",
   "id": "38a8f804-9ae4-45da-b9a7-fac319cf6b7b",
   "metadata": {},
   "source": [
    " viii) Handling NULL Values"
   ]
  },
  {
   "cell_type": "markdown",
   "id": "97d87f49-0888-4643-85ed-d5c6ddc81733",
   "metadata": {},
   "source": [
    " a) Create a 4x4 array of random floats between 0 and 1.\n"
   ]
  },
  {
   "cell_type": "code",
   "execution_count": 109,
   "id": "61c81412-03bf-44c6-8667-c8d3942af4ab",
   "metadata": {},
   "outputs": [
    {
     "name": "stdout",
     "output_type": "stream",
     "text": [
      "[[0.3581811  0.99149962 0.03723955 0.39412577]\n",
      " [0.44972994 0.32645638 0.87805063 0.42208656]\n",
      " [0.38718974 0.29177794 0.13426342 0.93779366]\n",
      " [0.2518577  0.75332257 0.10273434 0.96208945]]\n"
     ]
    }
   ],
   "source": [
    "M1=np.random.rand(4,4)\n",
    "print(M1)"
   ]
  },
  {
   "cell_type": "markdown",
   "id": "d9e58c88-28c8-4017-9d0e-0b9029a5324d",
   "metadata": {},
   "source": [
    "b) Replace some values with NaN (Not a Number)"
   ]
  },
  {
   "cell_type": "code",
   "execution_count": 113,
   "id": "15844e99-2dea-4fec-ba19-ae24c0cc6206",
   "metadata": {},
   "outputs": [],
   "source": [
    "M1[0][1]=np.nan\n",
    "M1[1][2]=np.nan\n",
    "M1[2][3]=np.nan\n",
    "M1[3][2]=np.nan"
   ]
  },
  {
   "cell_type": "markdown",
   "id": "4dec0122-2aca-456b-87e3-aa630746eec1",
   "metadata": {},
   "source": [
    " c) Use np.isnan() to create a boolean mask identifying the NaN\n",
    " values"
   ]
  },
  {
   "cell_type": "code",
   "execution_count": 116,
   "id": "d079e1ef-9add-4682-b262-891d13d67095",
   "metadata": {},
   "outputs": [
    {
     "name": "stdout",
     "output_type": "stream",
     "text": [
      "[[False  True False False]\n",
      " [False False  True False]\n",
      " [False False False  True]\n",
      " [False False  True False]]\n"
     ]
    }
   ],
   "source": [
    "bool_mask=np.isnan(M1)\n",
    "print(bool_mask)"
   ]
  },
  {
   "cell_type": "markdown",
   "id": "7000f1b4-9ff4-4d65-b6b0-d3905c3d005d",
   "metadata": {},
   "source": [
    " d) Calculate the mean of the array, ignoring the NaN values."
   ]
  },
  {
   "cell_type": "code",
   "execution_count": 118,
   "id": "5993aa28-abf4-44fb-a3dd-dc32d7144e93",
   "metadata": {},
   "outputs": [
    {
     "name": "stdout",
     "output_type": "stream",
     "text": [
      "0.39736000988288495\n"
     ]
    }
   ],
   "source": [
    "print(np.nanmean(M1))"
   ]
  },
  {
   "cell_type": "markdown",
   "id": "5bef45b2-5810-4870-9832-a37076bebe9e",
   "metadata": {},
   "source": [
    " ix) Advanced Challenge"
   ]
  },
  {
   "cell_type": "markdown",
   "id": "bdca685a-229b-4b12-b429-987c874d2914",
   "metadata": {},
   "source": [
    " a) Create a 10x10 array of random integers between 1 and 100."
   ]
  },
  {
   "cell_type": "code",
   "execution_count": 120,
   "id": "6dc00291-12ba-4403-933b-9a2fc88b15fc",
   "metadata": {},
   "outputs": [
    {
     "name": "stdout",
     "output_type": "stream",
     "text": [
      "[[ 67  41  18  54   7  77  39  27  50  58]\n",
      " [ 36   1  65  66  67  28  15  95  67  47]\n",
      " [ 66  81  28  34  52  97  99  66  96  70]\n",
      " [ 51  92   8  17  27   3  73  73  13  51]\n",
      " [ 75  65  61  42  34  87  76  68  76  84]\n",
      " [ 97  28  54  37  78  74  23  96  47  55]\n",
      " [ 20   7  43  26  43  62  74  34  13  86]\n",
      " [ 25  51  46   4  12  27  71   2  86  68]\n",
      " [ 40  84  91  12  61  35  64  18  10  60]\n",
      " [ 91  34  98  28  88  44  66  22  21 100]]\n"
     ]
    }
   ],
   "source": [
    "Adv_Matrix=np.random.randint(1,101,(10,10))\n",
    "print(Adv_Matrix)"
   ]
  },
  {
   "cell_type": "code",
   "execution_count": 134,
   "id": "82c060e6-4802-4be3-9ffa-dbed47c01121",
   "metadata": {},
   "outputs": [
    {
     "name": "stdout",
     "output_type": "stream",
     "text": [
      "[(9, 9), (2, 6), (9, 2), (2, 5), (5, 0)]\n"
     ]
    }
   ],
   "source": [
    "Adv_Matrix=Adv_Matrix.flatten()\n",
    "indices_flattend=np.argsort(Adv_Matrix)\n",
    "indices_flattend=indices_flattend[-1:-6:-1]\n",
    "indices_flattend=np.unravel_index(indices_flattend,(10,10))\n",
    "index=list(zip(indices_flattend[0],indices_flattend[1]))\n",
    "print(index)\n"
   ]
  },
  {
   "cell_type": "markdown",
   "id": "69a4381d-16ca-408e-b1a0-f599e0d3f253",
   "metadata": {},
   "source": [
    " c) Calculate the running average along each row (hint: look into\n",
    " np.cumsum())"
   ]
  },
  {
   "cell_type": "code",
   "execution_count": 151,
   "id": "b6941341-1e51-41b0-8bf5-8de85691266b",
   "metadata": {},
   "outputs": [
    {
     "name": "stdout",
     "output_type": "stream",
     "text": [
      "Matrix=\n",
      "[[ 55  61  54  39  38  37  27  75  47  70]\n",
      " [ 28  70  76   6  58  88  63   3  15   3]\n",
      " [ 37  36  97  51  42  10   6   9  13  49]\n",
      " [ 29  58  79  43  67  89  29  20  60  27]\n",
      " [ 88  99  78  35  70  30  33  31  65  59]\n",
      " [ 91  15  28  87  10  78  20  98  86 100]\n",
      " [ 30  40  42  83   1  10  69  92  74  97]\n",
      " [ 89  58  57   2  28  12  43   2  29  69]\n",
      " [ 41  31  22  27  10  60  38   9  32  35]\n",
      " [ 39  50  68  13  99  56  64  66  82  50]]\n",
      "res=\n",
      "[[55.         58.         56.66666667 52.25       49.4        47.33333333\n",
      "  44.42857143 48.25       48.11111111 50.3       ]\n",
      " [28.         49.         58.         45.         47.6        54.33333333\n",
      "  55.57142857 49.         45.22222222 41.        ]\n",
      " [37.         36.5        56.66666667 55.25       52.6        45.5\n",
      "  39.85714286 36.         33.44444444 35.        ]\n",
      " [29.         43.5        55.33333333 52.25       55.2        60.83333333\n",
      "  56.28571429 51.75       52.66666667 50.1       ]\n",
      " [88.         93.5        88.33333333 75.         74.         66.66666667\n",
      "  61.85714286 58.         58.77777778 58.8       ]\n",
      " [91.         53.         44.66666667 55.25       46.2        51.5\n",
      "  47.         53.375      57.         61.3       ]\n",
      " [30.         35.         37.33333333 48.75       39.2        34.33333333\n",
      "  39.28571429 45.875      49.         53.8       ]\n",
      " [89.         73.5        68.         51.5        46.8        41.\n",
      "  41.28571429 36.375      35.55555556 38.9       ]\n",
      " [41.         36.         31.33333333 30.25       26.2        31.83333333\n",
      "  32.71428571 29.75       30.         30.5       ]\n",
      " [39.         44.5        52.33333333 42.5        53.8        54.16666667\n",
      "  55.57142857 56.875      59.66666667 58.7       ]]\n"
     ]
    }
   ],
   "source": [
    "Adv_Matrix=np.random.randint(1,101,(10,10))\n",
    "div=np.arange(1,11)\n",
    "cum_sum_matrix=np.cumsum(Adv_Matrix,axis=1)\n",
    "res=cum_sum_matrix/div\n",
    "print(f\"Matrix=\\n{Adv_Matrix}\")\n",
    "print(f\"res=\\n{res}\")"
   ]
  },
  {
   "cell_type": "markdown",
   "id": "1d8f12c6-9060-4116-9180-45fe57258009",
   "metadata": {},
   "source": [
    "d) Normalize each column of the array so that it sums to 1"
   ]
  },
  {
   "cell_type": "code",
   "execution_count": 163,
   "id": "852ae8b7-e60c-4307-9924-0d4a0191e0d4",
   "metadata": {},
   "outputs": [
    {
     "name": "stdout",
     "output_type": "stream",
     "text": [
      "Adv_Matrix:\n",
      "[[0.06410256 0.07692308 0.06445993 0.17211704 0.02511416 0.22098214\n",
      "  0.11884058 0.0719697  0.13884298 0.11754069]\n",
      " [0.08461538 0.14323607 0.1184669  0.07917384 0.12785388 0.04017857\n",
      "  0.12173913 0.15909091 0.04297521 0.15189873]\n",
      " [0.04615385 0.06896552 0.12543554 0.03786575 0.02739726 0.08482143\n",
      "  0.06231884 0.07575758 0.10413223 0.06148282]\n",
      " [0.08974359 0.02122016 0.13066202 0.11876076 0.22146119 0.03571429\n",
      "  0.12898551 0.1875     0.13719008 0.02893309]\n",
      " [0.12820513 0.05039788 0.05923345 0.0757315  0.043379   0.12053571\n",
      "  0.05217391 0.07007576 0.08595041 0.05424955]\n",
      " [0.23333333 0.22811671 0.1271777  0.12048193 0.07305936 0.14955357\n",
      "  0.11449275 0.15530303 0.04132231 0.14104882]\n",
      " [0.0025641  0.18832891 0.07317073 0.14457831 0.11872146 0.16294643\n",
      "  0.10869565 0.15719697 0.10578512 0.16636528]\n",
      " [0.06153846 0.08753316 0.09407666 0.15490534 0.14840183 0.078125\n",
      "  0.04927536 0.08143939 0.12727273 0.09041591]\n",
      " [0.09230769 0.09018568 0.16027875 0.02581756 0.19178082 0.08705357\n",
      "  0.14347826 0.03030303 0.05619835 0.00723327]\n",
      " [0.1974359  0.04509284 0.04703833 0.07056799 0.02283105 0.02008929\n",
      "  0.1        0.01136364 0.16033058 0.18083183]]\n",
      " div_col:\n",
      "[390 377 574 581 438 448 690 528 605 553]\n",
      "[1. 1. 1. 1. 1. 1. 1. 1. 1. 1.]\n"
     ]
    }
   ],
   "source": [
    "Adv_Matrix=np.random.randint(1,101,(10,10))\n",
    "div_col=np.sum(Adv_Matrix,axis=0)\n",
    "Adv_Matrix=Adv_Matrix/div_col\n",
    "print(f\"Adv_Matrix:\\n{Adv_Matrix}\\n div_col:\\n{div_col}\")\n",
    "print(np.sum(Adv_Matrix,axis=0))"
   ]
  },
  {
   "cell_type": "markdown",
   "id": "71b8e397-4f6b-4c70-a1de-e5938752d4b4",
   "metadata": {},
   "source": [
    "## Question 2"
   ]
  },
  {
   "cell_type": "markdown",
   "id": "62ac66f6-86b6-437b-a5dd-df65bc3cf7f2",
   "metadata": {},
   "source": [
    " Write a python program to perform matrix operations on an M x N matrix and\n",
    " solve a system of linear equations. Use inbuilt functions to implement the\n",
    " operations. Get two matrices from the user. The program should support the\n",
    " following Menus,\n",
    " 1. Matrix Addition\n",
    " 2. Matrix Subtraction\n",
    " 3. Scalar Matrix Multiplication\n",
    " 4. Elementwise Matrix Multiplication\n",
    " 5. Matrix Multiplication\n",
    " 6. Matrix Transpose\n",
    " 7. Trace of a Matrix\n",
    " 8. Solve System of Linear Equations\n",
    " 9. Determinant\n",
    " 10. Inverse\n",
    " 11. Eigen Value and Eigen Vector\n",
    " 12. Exit\n"
   ]
  },
  {
   "cell_type": "code",
   "execution_count": 15,
   "id": "e7ff785e-b6fa-4e36-83d5-f95fbf719b09",
   "metadata": {
    "scrolled": true
   },
   "outputs": [
    {
     "name": "stdout",
     "output_type": "stream",
     "text": [
      "Waiting for  Matrix Initialization...\n"
     ]
    },
    {
     "name": "stdin",
     "output_type": "stream",
     "text": [
      "Enter the Matrix1 as a list of list:  [[2,3,1],[4,1,2],[3,2,3]]\n",
      "Enter the Matrix2 as a list of list:  [[2,3,1],[4,1,2],[3,2,3]]\n"
     ]
    },
    {
     "name": "stdout",
     "output_type": "stream",
     "text": [
      "The choices are:\n",
      "\n",
      "            1.Matrix Addition\n",
      "\n",
      "            2.Matrix Subtraction\n",
      "\n",
      "            3.Scalar Matrix Multiplication\n",
      "\n",
      "            4.Elementwise Matrix Multiplication\n",
      "\n",
      "            5.Matrix Multiplication\n",
      "\n",
      "            6.Matrix Transpose\n",
      "\n",
      "            7.Trace of a Matrix\n",
      "\n",
      "            8.Solve System of Linear Equations\n",
      "\n",
      "            9.Determinant\n",
      "\n",
      "            10.Inverse\n",
      "\n",
      "            11.Eigen Value and Eigen Vector\n",
      "\n",
      "            12.reset Matrices\n",
      "\n",
      "            13.exit\n",
      "\n"
     ]
    },
    {
     "name": "stdin",
     "output_type": "stream",
     "text": [
      "Enter the choice:  11\n",
      "Choose between matrix for Inverse:\n",
      " 1-> matrix1\n",
      " 2->matrix2\n",
      "  1\n"
     ]
    },
    {
     "name": "stdout",
     "output_type": "stream",
     "text": [
      "eigenvalues:[ 6.84833559 -1.96372342  1.11538784]\n",
      " eigenvectors:[[-0.48554762 -0.61083762 -0.44502389]\n",
      " [-0.56129286  0.79012311 -0.16233614]\n",
      " [-0.67021925  0.05082206  0.88068196]]\n",
      "The choices are:\n",
      "\n",
      "            1.Matrix Addition\n",
      "\n",
      "            2.Matrix Subtraction\n",
      "\n",
      "            3.Scalar Matrix Multiplication\n",
      "\n",
      "            4.Elementwise Matrix Multiplication\n",
      "\n",
      "            5.Matrix Multiplication\n",
      "\n",
      "            6.Matrix Transpose\n",
      "\n",
      "            7.Trace of a Matrix\n",
      "\n",
      "            8.Solve System of Linear Equations\n",
      "\n",
      "            9.Determinant\n",
      "\n",
      "            10.Inverse\n",
      "\n",
      "            11.Eigen Value and Eigen Vector\n",
      "\n",
      "            12.reset Matrices\n",
      "\n",
      "            13.exit\n",
      "\n"
     ]
    },
    {
     "name": "stdin",
     "output_type": "stream",
     "text": [
      "Enter the choice:  13\n"
     ]
    },
    {
     "name": "stdout",
     "output_type": "stream",
     "text": [
      "Ending Program...\n",
      "Program Ended\n"
     ]
    }
   ],
   "source": [
    "#Note if you get an error make sure to pip insall tabulate\n",
    "\n",
    "from IPython.display import clear_output\n",
    "import numpy as np\n",
    "from tabulate import *\n",
    "import time\n",
    "def setmatrix():\n",
    "    M1=np.array(eval(input(\"Enter the Matrix1 as a list of list: \")))\n",
    "    M2=np.array(eval(input(\"Enter the Matrix2 as a list of list: \")))\n",
    "    return M1,M2\n",
    "\n",
    "\n",
    "\n",
    "\n",
    "print(\"Waiting for  Matrix Initialization...\")\n",
    "M1,M2=setmatrix()\n",
    "\n",
    "while True:\n",
    "    \n",
    "    print('''The choices are:\\n\n",
    "            1.Matrix Addition\\n\n",
    "            2.Matrix Subtraction\\n\n",
    "            3.Scalar Matrix Multiplication\\n\n",
    "            4.Elementwise Matrix Multiplication\\n\n",
    "            5.Matrix Multiplication\\n\n",
    "            6.Matrix Transpose\\n\n",
    "            7.Trace of a Matrix\\n\n",
    "            8.Solve System of Linear Equations\\n\n",
    "            9.Determinant\\n\n",
    "            10.Inverse\\n\n",
    "            11.Eigen Value and Eigen Vector\\n\n",
    "            12.reset Matrices\\n\n",
    "            13.exit\\n''')\n",
    "    \n",
    "    choice=int(input(\"Enter the choice: \"))\n",
    "    if(choice==1):\n",
    "        res=M1+M2\n",
    "        print(tabulate(res,tablefmt='grid'))\n",
    "        \n",
    "    elif(choice==2):\n",
    "        res=M1-M2\n",
    "        print(tabulate(res,tablefmt='grid'))\n",
    "        \n",
    "    elif(choice==3):\n",
    "        scalar=int(input(\"Enter the scalar to be multiplied with: \"))\n",
    "        matrix=int(input(\"Choose between matrix to multiply scalar with:\\n 1-> matrix1\\n 2->matrix2\\n \"))\n",
    "        if matrix==1:\n",
    "            matrix=M1\n",
    "        else:\n",
    "            matrix=M2                #default M2 is selected\n",
    "        res=scalar*M2\n",
    "        print(tabulate(res,tablefmt='grid'))\n",
    "    elif(choice==4):\n",
    "        res=M1*M2\n",
    "        print(tabulate(res,tablefmt='grid'))\n",
    "    elif(choice==5):\n",
    "        res=M1.dot(M2)\n",
    "        print(tabulate(res,tablefmt='grid'))\n",
    "    elif(choice==6):\n",
    "        matrix=int(input(\"Choose between matrix to Transpose :\\n 1-> matrix1\\n 2->matrix2\\n \"))\n",
    "        if matrix==1:\n",
    "            matrix=M1\n",
    "        else:\n",
    "            matrix=M2                #default M2 is selected\n",
    "        res=matrix.T\n",
    "        print(tabulate(res,tablefmt='grid'))\n",
    "    elif(choice==7):\n",
    "        matrix=int(input(\"Choose between matrix to find trace:\\n 1-> matrix1\\n 2->matrix2\\n \"))\n",
    "        if matrix==1:\n",
    "            matrix=M1\n",
    "        else:\n",
    "            matrix=M2                #default M2 is selected\n",
    "        res=np.trace(matrix)\n",
    "        print(res)\n",
    "    elif(choice==8):\n",
    "        print(\"Solves equation of the form Ax=B\")\n",
    "        A=eval(input(\"Enter the value of A\"))\n",
    "        B=eval(input(\"Enter the value of B\"))\n",
    "        res=np.linalg.solve(A,B)\n",
    "        print(res)\n",
    "        \n",
    "    elif(choice==9):\n",
    "         matrix=int(input(\"Choose between matrix for determinant:\\n 1-> matrix1\\n 2->matrix2\\n \"))\n",
    "         if matrix==1:\n",
    "            matrix=M1\n",
    "         else:\n",
    "            matrix=M2                #default M2 is selected\n",
    "         res=np.linalg.det(matrix)\n",
    "         print(res)\n",
    "    elif(choice==10):\n",
    "        matrix=int(input(\"Choose between matrix for Inverse:\\n 1-> matrix1\\n 2->matrix2\\n \"))\n",
    "        if matrix==1:\n",
    "            matrix=M1\n",
    "        else:\n",
    "            matrix=M2                #default M2 is selected\n",
    "        res=np.linalg.inv(matrix)\n",
    "        print(res)\n",
    "    elif(choice==11):\n",
    "        matrix=int(input(\"Choose between matrix for Inverse:\\n 1-> matrix1\\n 2->matrix2\\n \"))\n",
    "        if matrix==1:\n",
    "            matrix=M1\n",
    "        else:\n",
    "            matrix=M2                #default M2 is selected\n",
    "        eigenvalues, eigenvectors = np.linalg.eig(matrix)\n",
    "        print(f\"eigenvalues:{eigenvalues}\\n eigenvectors:{eigenvectors}\")\n",
    "    elif(choice==12):\n",
    "        M1,M2=setmatrix()\n",
    "        print(\"Matrix set successfully\")\n",
    "    elif(choice==13):\n",
    "        print(\"Ending Program...\")\n",
    "        time.sleep(5)\n",
    "        print(\"Program Ended\")\n",
    "        break\n",
    "    else:\n",
    "        print(\"Enter a valid choice\\n\")\n",
    "    \n",
    "    \n",
    "    \n",
    "    \n",
    "    "
   ]
  },
  {
   "cell_type": "code",
   "execution_count": null,
   "id": "b3382cd1-98fc-49f9-8ead-5c9c38ca0294",
   "metadata": {},
   "outputs": [],
   "source": []
  },
  {
   "cell_type": "code",
   "execution_count": null,
   "id": "384ba3b2-8392-4612-a531-a2aaeeccf4b6",
   "metadata": {},
   "outputs": [],
   "source": []
  }
 ],
 "metadata": {
  "kernelspec": {
   "display_name": "Python 3 (ipykernel)",
   "language": "python",
   "name": "python3"
  },
  "language_info": {
   "codemirror_mode": {
    "name": "ipython",
    "version": 3
   },
   "file_extension": ".py",
   "mimetype": "text/x-python",
   "name": "python",
   "nbconvert_exporter": "python",
   "pygments_lexer": "ipython3",
   "version": "3.10.11"
  },
  "widgets": {
   "application/vnd.jupyter.widget-state+json": {
    "state": {},
    "version_major": 2,
    "version_minor": 0
   }
  }
 },
 "nbformat": 4,
 "nbformat_minor": 5
}
