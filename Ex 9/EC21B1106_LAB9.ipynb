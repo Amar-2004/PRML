{
 "cells": [
  {
   "cell_type": "markdown",
   "id": "9183d283-9a37-4967-b798-deeb48b7ce57",
   "metadata": {},
   "source": [
    "# LAB 9\n",
    "## A Amar Rohith,EC21B1106"
   ]
  },
  {
   "cell_type": "markdown",
   "id": "de2a0e88-4794-44c5-82d3-434a7311a25f",
   "metadata": {},
   "source": [
    "Q1)Consider the 128- dimensional feature vectors (d=128) given in the “gender.csv” file. (2 classes, male and female)\n",
    "a) Use PCA to reduce the dimension from d to d‟. (Here d=128).\n",
    "b) Display the eigenvalue based on increasing order, select the d‟ of the corresponding eigenvector which is the appropriate dimension d‟ ( select d‟ S.T first 95% of λ values of the covariance matrix are considered).\n",
    "c) Use d‟ features to classify the test cases (use any classification algorithm taught in class like Bayes classifier, minimum distance classifier, and so on).\n",
    "\n",
    "Dataset Specifications:\n",
    "Total number of samples = 800\n",
    "Number of classes = 2 (labeled as “male” and “female”)\n",
    "Samples from “1 to 400” belongs to class “male”\n",
    "Samples from “401 to 800” belongs to class “female”\n",
    "Number of samples per class = 400\n",
    "Number of dimensions = 128\n",
    "Use the following information to design classifier:\n",
    "Number of test cases (first 10 in each class) = 20\n",
    "Number of training feature vectors ( remaining 390 in each class) = 390\n",
    "Number of reduced dimensions = d‟ (map 128 to d‟ features vector)\n",
    "\n"
   ]
  },
  {
   "cell_type": "code",
   "execution_count": 2,
   "id": "07636d32-0c90-4090-b872-b22caba4723d",
   "metadata": {},
   "outputs": [
    {
     "name": "stdout",
     "output_type": "stream",
     "text": [
      "Test accuracy: 95.00%\n"
     ]
    }
   ],
   "source": [
    "import numpy as np\n",
    "import pandas as pd\n",
    "\n",
    "data = pd.read_csv('gender.csv')\n",
    "features = data.iloc[:, 2:].values\n",
    "targets = data.iloc[:, 1].values\n",
    "\n",
    "train_features = np.concatenate((features[:390], features[400:790]))\n",
    "train_targets = np.concatenate((targets[:390], targets[400:790]))\n",
    "\n",
    "test_features = np.concatenate((features[390:400], features[790:800]))\n",
    "test_targets = np.concatenate((targets[390:400], targets[790:800]))\n",
    "\n",
    "train_mean = train_features.mean(axis=0)\n",
    "adjusted_train = train_features - train_mean\n",
    "\n",
    "covariance = np.cov(adjusted_train, rowvar=False)\n",
    "eigen_vals, eigen_vecs = np.linalg.eigh(covariance)\n",
    "\n",
    "sorted_idx = eigen_vals.argsort()[::-1]\n",
    "eigen_vals = eigen_vals[sorted_idx]\n",
    "eigen_vecs = eigen_vecs[:, sorted_idx]\n",
    "\n",
    "explained_var = np.cumsum(eigen_vals) / eigen_vals.sum()\n",
    "num_components = np.argmax(explained_var >= 0.95) + 1\n",
    "\n",
    "principal_axes = eigen_vecs[:, :num_components]\n",
    "reduced_train = adjusted_train @ principal_axes\n",
    "adjusted_test = test_features - train_mean\n",
    "reduced_test = adjusted_test @ principal_axes\n",
    "\n",
    "centroid_map = {\n",
    "    \"male\": reduced_train[train_targets == 'male'].mean(axis=0),\n",
    "    \"female\": reduced_train[train_targets == 'female'].mean(axis=0)\n",
    "}\n",
    "\n",
    "def nearest_centroid(sample, centroids):\n",
    "    dist_map = {key: np.linalg.norm(sample - value) for key, value in centroids.items()}\n",
    "    return min(dist_map, key=dist_map.get)\n",
    "\n",
    "results = [nearest_centroid(test, centroid_map) for test in reduced_test]\n",
    "accuracy = (results == test_targets).mean()\n",
    "print(f\"Test accuracy: {accuracy * 100:.2f}%\")\n",
    "\n"
   ]
  },
  {
   "cell_type": "markdown",
   "id": "6152ed5e-ab4a-401f-a5bb-22682d0b13a8",
   "metadata": {},
   "source": [
    "Q2)Eigenfaces-Face classification using PCA (40 classes)\n",
    "a) Use the following “face.csv” file to classify the faces of 40 different people using PCA.\n",
    "b) Do not use the in-built function for implementing PCA.\n",
    "c) Use appropriate classifier taught in class (use any classification algorithm taught in class like Bayes classifier, minimum distance classifier, and so on)\n",
    "d) Refer to the following link for a description of the dataset: https://towardsdatascience.com/eigenfaces-face-classification-in-python-7b8d2af3d3ea\n"
   ]
  },
  {
   "cell_type": "code",
   "execution_count": 3,
   "id": "c6362d73-e299-4e2d-8f31-34c1b5838368",
   "metadata": {},
   "outputs": [
    {
     "name": "stdout",
     "output_type": "stream",
     "text": [
      "Accuracy: 86.67%\n"
     ]
    }
   ],
   "source": [
    "import pandas as pd\n",
    "import numpy as np\n",
    "from sklearn.model_selection import train_test_split\n",
    "\n",
    "data = pd.read_csv(\"face.csv\")\n",
    "\n",
    "X = data.iloc[:, :-1].values  \n",
    "y = data['target'].values     \n",
    "\n",
    "mu = np.mean(X, axis=0)\n",
    "X_centered = X - mu\n",
    "\n",
    "cov_matrix = np.cov(X_centered, rowvar=False)\n",
    "\n",
    "eig_vals, eig_vecs = np.linalg.eigh(cov_matrix)\n",
    "\n",
    "sorted_idx = np.argsort(eig_vals)[::-1]\n",
    "eig_vals = eig_vals[sorted_idx]\n",
    "eig_vecs = eig_vecs[:, sorted_idx]\n",
    "\n",
    "k = 100\n",
    "principal_components = eig_vecs[:, :k]\n",
    "\n",
    "X_reduced = np.dot(X_centered, principal_components)\n",
    "\n",
    "X_train, X_test, y_train, y_test = train_test_split(X_reduced, y, test_size=0.3, random_state=42)\n",
    "\n",
    "centroids = {\n",
    "    cls: np.mean(X_train[y_train == cls], axis=0)\n",
    "    for cls in np.unique(y_train)\n",
    "}\n",
    "\n",
    "def predict(sample, centroids):\n",
    "    dists = {cls: np.linalg.norm(sample - centroid) for cls, centroid in centroids.items()}\n",
    "    return min(dists, key=dists.get)\n",
    "\n",
    "predictions = [predict(sample, centroids) for sample in X_test]\n",
    "acc = np.mean(predictions == y_test)\n",
    "print(f\"Accuracy: {acc * 100:.2f}%\")"
   ]
  },
  {
   "cell_type": "code",
   "execution_count": null,
   "id": "d0442f1b-b85d-41c3-8e14-8d16b067700a",
   "metadata": {},
   "outputs": [],
   "source": []
  }
 ],
 "metadata": {
  "kernelspec": {
   "display_name": "Python 3 (ipykernel)",
   "language": "python",
   "name": "python3"
  },
  "language_info": {
   "codemirror_mode": {
    "name": "ipython",
    "version": 3
   },
   "file_extension": ".py",
   "mimetype": "text/x-python",
   "name": "python",
   "nbconvert_exporter": "python",
   "pygments_lexer": "ipython3",
   "version": "3.10.11"
  },
  "widgets": {
   "application/vnd.jupyter.widget-state+json": {
    "state": {},
    "version_major": 2,
    "version_minor": 0
   }
  }
 },
 "nbformat": 4,
 "nbformat_minor": 5
}
