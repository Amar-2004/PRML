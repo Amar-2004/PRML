{
 "cells": [
  {
   "cell_type": "markdown",
   "id": "bdeda107-0ba1-48f6-8ba3-b86a2a4672d3",
   "metadata": {},
   "source": [
    "## Euclidean Distance and Correlation Analysis"
   ]
  },
  {
   "cell_type": "markdown",
   "id": "8ddd1842-53db-4a40-9beb-54976c2dc25c",
   "metadata": {},
   "source": [
    "# A Amar Rohith,EC21B1106"
   ]
  },
  {
   "cell_type": "markdown",
   "id": "d4de94c7-961f-4197-b7f5-225953f2fcce",
   "metadata": {},
   "source": [
    "1.\tGiven tabular data is collected at a small ice cream store. To determine if there is a correlation between temperature and the number of customers, calculate the Pearson correlation coefficient, without using any built-in functions or libraries. Compare your results with calculation using the inbuilt function. ion.tiontion"
   ]
  },
  {
   "cell_type": "code",
   "execution_count": 10,
   "id": "6666876b-a552-4b13-b2c5-66b0e5aaec9a",
   "metadata": {},
   "outputs": [],
   "source": [
    "import numpy as np\n",
    "import pandas as pd\n",
    "import scipy as sp\n",
    "import math\n",
    "import seaborn as sns\n",
    "import matplotlib.pyplot as plt\n",
    "from scipy.spatial.distance import cdist\n",
    "from collections import Counter\n",
    "from sklearn.neighbors import KNeighborsClassifier\n",
    "from sklearn.metrics import accuracy_score"
   ]
  },
  {
   "cell_type": "code",
   "execution_count": 11,
   "id": "b8f9ce3a-0959-4202-b483-03aff4d83b9d",
   "metadata": {},
   "outputs": [
    {
     "name": "stdout",
     "output_type": "stream",
     "text": [
      "13.0\n"
     ]
    }
   ],
   "source": [
    "def euclidian_distance(a,b):\n",
    "    res=0\n",
    "    for i in range(len(a)):\n",
    "        res=res+(a[i]-b[i])**2\n",
    "    res=np.sqrt(res)\n",
    "    return res      \n",
    "print(euclidian_distance((0,0),(12,5)))"
   ]
  },
  {
   "cell_type": "code",
   "execution_count": 12,
   "id": "13e6570f-037b-4f5a-a1d4-4a200fd1935b",
   "metadata": {},
   "outputs": [
    {
     "name": "stdout",
     "output_type": "stream",
     "text": [
      "   Temperature  Number of customers\n",
      "0           98                   15\n",
      "1           87                   12\n",
      "2           90                   10\n",
      "3           85                   10\n",
      "4           95                   16\n",
      "5           75                    7\n",
      "6           92                   14\n",
      "7           80                    9\n",
      "8           88                   11\n",
      "9           93                   13\n",
      "88.3\n",
      "11.7\n",
      "0.9186718493897071\n"
     ]
    },
    {
     "data": {
      "text/plain": [
       "0.9186718493897073"
      ]
     },
     "execution_count": 12,
     "metadata": {},
     "output_type": "execute_result"
    }
   ],
   "source": [
    "dict_data={'Temperature':[98,87,90,85,95,75,92,80,88,93],\"Number of customers\":[15,12,10,10,16,7,14,9,11,13]}\n",
    "df=pd.DataFrame(dict_data)\n",
    "print(df)\n",
    "\n",
    "mean_temp=(df['Temperature'].sum())/(len(df['Temperature']))\n",
    "mean_cust=(df['Number of customers'].sum())/(len(df['Number of customers']))\n",
    "print(mean_temp)\n",
    "print(mean_cust)\n",
    "numerator = sum([(i-mean_temp)*(j-mean_cust) for i,j in zip(df['Temperature'],df['Number of customers'])])\n",
    "denominator=np.sqrt(sum([((i-mean_temp)**2) for i in df['Temperature']])*sum([((j-mean_cust)**2) for j in df['Number of customers']]))\n",
    "\n",
    "\n",
    "print(numerator/denominator)\n",
    "df['Temperature'].corr(df['Number of customers'],method=\"pearson\")"
   ]
  },
  {
   "cell_type": "markdown",
   "id": "bfe225e7-d20b-4c6d-9866-98b5c84f0a5c",
   "metadata": {},
   "source": [
    "2.\tYou are given the famous Iris dataset (iris.csv), which contains samples of iris flowers, each described by four features: sepal length, sepal width, petal length, and petal width. The dataset is labeled with three classes: Setosa, Versicolor, and Virginica. The iris.csv is present in the Submission link."
   ]
  },
  {
   "cell_type": "markdown",
   "id": "8423b89e-bfbe-4aad-ace5-1e8128ec3c66",
   "metadata": {},
   "source": [
    "a.\tFirst take 2 dimensions/features, that is, Sepal Length and Sepal Width."
   ]
  },
  {
   "cell_type": "code",
   "execution_count": 13,
   "id": "4c3dd720-931d-45db-95bd-1b415de063e3",
   "metadata": {},
   "outputs": [
    {
     "name": "stdout",
     "output_type": "stream",
     "text": [
      "     sepal.length  sepal.width  petal.length  petal.width    variety\n",
      "0             5.1          3.5           1.4          0.2     Setosa\n",
      "1             4.9          3.0           1.4          0.2     Setosa\n",
      "2             4.7          3.2           1.3          0.2     Setosa\n",
      "3             4.6          3.1           1.5          0.2     Setosa\n",
      "4             5.0          3.6           1.4          0.2     Setosa\n",
      "..            ...          ...           ...          ...        ...\n",
      "145           6.7          3.0           5.2          2.3  Virginica\n",
      "146           6.3          2.5           5.0          1.9  Virginica\n",
      "147           6.5          3.0           5.2          2.0  Virginica\n",
      "148           6.2          3.4           5.4          2.3  Virginica\n",
      "149           5.9          3.0           5.1          1.8  Virginica\n",
      "\n",
      "[150 rows x 5 columns]\n"
     ]
    }
   ],
   "source": [
    "df=pd.read_csv('iris.csv')\n",
    "df_temp=df.loc[:,['sepal.length','sepal.width']]\n",
    "print(df)"
   ]
  },
  {
   "cell_type": "markdown",
   "id": "31888668-8e49-444d-920d-32b68c1e1ec9",
   "metadata": {},
   "source": [
    "i.\tLoad the Iris dataset and split it into a training set and a testing set. The testing set should contain the first 3 samples of each class. Do NOT use the inbuilt function for splitting the data."
   ]
  },
  {
   "cell_type": "code",
   "execution_count": 14,
   "id": "3aaddc02-3b19-4b3a-8d2c-c523dcf274f5",
   "metadata": {},
   "outputs": [
    {
     "name": "stdout",
     "output_type": "stream",
     "text": [
      "     sepal.length  sepal.width     variety\n",
      "0             5.1          3.5      Setosa\n",
      "1             4.9          3.0      Setosa\n",
      "2             4.7          3.2      Setosa\n",
      "50            7.0          3.2  Versicolor\n",
      "51            6.4          3.2  Versicolor\n",
      "52            6.9          3.1  Versicolor\n",
      "100           6.3          3.3   Virginica\n",
      "101           5.8          2.7   Virginica\n",
      "102           7.1          3.0   Virginica\n",
      "     sepal.length  sepal.width    variety\n",
      "3             4.6          3.1     Setosa\n",
      "4             5.0          3.6     Setosa\n",
      "5             5.4          3.9     Setosa\n",
      "6             4.6          3.4     Setosa\n",
      "7             5.0          3.4     Setosa\n",
      "..            ...          ...        ...\n",
      "145           6.7          3.0  Virginica\n",
      "146           6.3          2.5  Virginica\n",
      "147           6.5          3.0  Virginica\n",
      "148           6.2          3.4  Virginica\n",
      "149           5.9          3.0  Virginica\n",
      "\n",
      "[141 rows x 3 columns]\n"
     ]
    }
   ],
   "source": [
    "test_dataset=df.groupby(\"variety\").head(3).loc[:,['sepal.length','sepal.width','variety']]\n",
    "print(test_dataset)\n",
    "training_dataset=df.groupby(\"variety\").tail(-3).loc[:,['sepal.length','sepal.width','variety']]\n",
    "print(training_dataset)"
   ]
  },
  {
   "cell_type": "code",
   "execution_count": 15,
   "id": "91775724-4b80-49b8-a5c9-b4b89754d2ce",
   "metadata": {},
   "outputs": [
    {
     "data": {
      "text/plain": [
       "<Axes: xlabel='sepal.length', ylabel='sepal.width'>"
      ]
     },
     "execution_count": 15,
     "metadata": {},
     "output_type": "execute_result"
    },
    {
     "data": {
      "image/png": "[encoded data removed]",
      "text/plain": [
       "<Figure size 640x480 with 1 Axes>"
      ]
     },
     "metadata": {},
     "output_type": "display_data"
    }
   ],
   "source": [
    "sns.scatterplot(data=training_dataset,hue='variety',x='sepal.length',y='sepal.width',palette='Set1')"
   ]
  },
  {
   "cell_type": "markdown",
   "id": "b0401ad1-29f1-47e2-94d8-aa407394b6b7",
   "metadata": {},
   "source": [
    "iii.\tFor each sample in the testing set, compute its Euclidean distance to all samples in the training set. "
   ]
  },
  {
   "cell_type": "code",
   "execution_count": 34,
   "id": "5c756722-fe81-478f-896c-3a619a5ccb0b",
   "metadata": {},
   "outputs": [
    {
     "name": "stdout",
     "output_type": "stream",
     "text": [
      "9\n",
      "9\n",
      "['Setosa' 'Setosa' 'Setosa' 'Setosa' 'Setosa' 'Setosa' 'Setosa' 'Setosa'\n",
      " 'Setosa' 'Setosa' 'Setosa' 'Setosa' 'Setosa' 'Setosa' 'Setosa' 'Setosa'\n",
      " 'Setosa' 'Setosa' 'Setosa' 'Setosa' 'Setosa' 'Setosa' 'Setosa' 'Setosa'\n",
      " 'Setosa' 'Setosa' 'Setosa' 'Setosa' 'Setosa' 'Setosa' 'Setosa' 'Setosa'\n",
      " 'Setosa' 'Setosa' 'Setosa' 'Setosa' 'Setosa' 'Setosa' 'Setosa' 'Setosa'\n",
      " 'Setosa' 'Setosa' 'Setosa' 'Setosa' 'Setosa' 'Setosa' 'Setosa'\n",
      " 'Versicolor' 'Versicolor' 'Versicolor' 'Versicolor' 'Versicolor'\n",
      " 'Versicolor' 'Versicolor' 'Versicolor' 'Versicolor' 'Versicolor'\n",
      " 'Versicolor' 'Versicolor' 'Versicolor' 'Versicolor' 'Versicolor'\n",
      " 'Versicolor' 'Versicolor' 'Versicolor' 'Versicolor' 'Versicolor'\n",
      " 'Versicolor' 'Versicolor' 'Versicolor' 'Versicolor' 'Versicolor'\n",
      " 'Versicolor' 'Versicolor' 'Versicolor' 'Versicolor' 'Versicolor'\n",
      " 'Versicolor' 'Versicolor' 'Versicolor' 'Versicolor' 'Versicolor'\n",
      " 'Versicolor' 'Versicolor' 'Versicolor' 'Versicolor' 'Versicolor'\n",
      " 'Versicolor' 'Versicolor' 'Versicolor' 'Versicolor' 'Versicolor'\n",
      " 'Versicolor' 'Versicolor' 'Virginica' 'Virginica' 'Virginica' 'Virginica'\n",
      " 'Virginica' 'Virginica' 'Virginica' 'Virginica' 'Virginica' 'Virginica'\n",
      " 'Virginica' 'Virginica' 'Virginica' 'Virginica' 'Virginica' 'Virginica'\n",
      " 'Virginica' 'Virginica' 'Virginica' 'Virginica' 'Virginica' 'Virginica'\n",
      " 'Virginica' 'Virginica' 'Virginica' 'Virginica' 'Virginica' 'Virginica'\n",
      " 'Virginica' 'Virginica' 'Virginica' 'Virginica' 'Virginica' 'Virginica'\n",
      " 'Virginica' 'Virginica' 'Virginica' 'Virginica' 'Virginica' 'Virginica'\n",
      " 'Virginica' 'Virginica' 'Virginica' 'Virginica' 'Virginica' 'Virginica'\n",
      " 'Virginica']\n"
     ]
    }
   ],
   "source": [
    "from scipy.spatial.distance import cdist\n",
    "x_train=training_dataset.loc[:,['sepal.length','sepal.width']]\n",
    "y_train=training_dataset.loc[:,['variety']]\n",
    "x_test=test_dataset.loc[:,['sepal.length','sepal.width']]\n",
    "y_test=test_dataset.loc[:,'variety']\n",
    "distances1 = cdist(x_test,x_train, metric='euclidean')\n",
    "distances2=[]\n",
    "for x1 in x_test.to_numpy():\n",
    "    rows=[]\n",
    "    for x2 in x_train.to_numpy():\n",
    "        rows.append(euclidian_distance(x1,x2))\n",
    "    distances2.append(rows)\n",
    "print(len(distances1),len(distances2),sep='\\n')\n",
    "print(y_train.to_numpy().flatten())"
   ]
  },
  {
   "cell_type": "markdown",
   "id": "4987cb63-7203-478d-bbb2-919a441d91ff",
   "metadata": {},
   "source": [
    "iv.\tIdentify the K-nearest neighbors with the smallest Euclidean distances for each sample in the testing set, where K is a hyperparameter. "
   ]
  },
  {
   "cell_type": "code",
   "execution_count": 40,
   "id": "72d4520a-8ca1-4512-b7ae-24cfe6aa250d",
   "metadata": {},
   "outputs": [
    {
     "name": "stdout",
     "output_type": "stream",
     "text": [
      "[[ 14  37  40  36  24   1]\n",
      " [ 22  31   6  42   9  27]\n",
      " [ 26  44  27   0   8  21]\n",
      " [111 130 132 116 134 103]\n",
      " [106 101 128  50  95 107]\n",
      " [132 130 111 134 103  59]\n",
      " [ 50 127 139 106 128 101]\n",
      " [ 76 133  61 105  86  93]\n",
      " [120 132 130  98 116 111]]\n"
     ]
    }
   ],
   "source": [
    "K=6\n",
    "nearest_neighbors_indices = np.argsort(distances1, axis=1)[:, :K]\n",
    "print(nearest_neighbors_indices)"
   ]
  },
  {
   "cell_type": "markdown",
   "id": "df66a370-3448-4d24-a76a-e4a30d765827",
   "metadata": {},
   "source": [
    "v.\tDetermine the majority class among the K-nearest neighbors and assign it as the predicted class for the sample."
   ]
  },
  {
   "cell_type": "code",
   "execution_count": 41,
   "id": "ae586497-a21f-4f81-bc8c-23389133a4b0",
   "metadata": {
    "scrolled": true
   },
   "outputs": [
    {
     "name": "stdout",
     "output_type": "stream",
     "text": [
      "['Setosa', 'Setosa', 'Setosa', 'Virginica', 'Virginica', 'Virginica', 'Virginica', 'Versicolor', 'Virginica']\n",
      "['Setosa' 'Setosa' 'Setosa' 'Versicolor' 'Versicolor' 'Versicolor'\n",
      " 'Virginica' 'Virginica' 'Virginica']\n"
     ]
    }
   ],
   "source": [
    "\n",
    "'''def predict_class(indices):\n",
    "    nearest_classes = y_train[indices]\n",
    "    majority_class = Counter(nearest_classes).most_common(1)[0][0]\n",
    "    return majority_class\n",
    "predicted_classes = [predict_class(indices) for indices in nearest_neighbors_indices]\n",
    "\n",
    "for i, prediction in enumerate(predicted_classes):\n",
    "    print(f\"Test sample {i} is predicted to be in class: {prediction}\")\n",
    "    print(f\"Actual class: {y_test[i]}\")\n",
    "accuracy = accuracy_score(y_test, predicted_classes)\n",
    "print(f\"Accuracy of the custom KNN classifier: {accuracy:.2f}\")'''\n",
    "y_output=[]\n",
    "for i in nearest_neighbors_indices:\n",
    "    count=Counter([y_train.to_numpy().flatten()[j] for j in i])\n",
    "    y_output.append(max(count,key=lambda x:count[x]))\n",
    "print(y_output)\n",
    "print(y_test.to_numpy().flatten())\n",
    "    "
   ]
  },
  {
   "cell_type": "markdown",
   "id": "073b9c13-6078-41b0-bc96-a4a2c1c5930c",
   "metadata": {},
   "source": [
    "b.\tRepeat the same for all the four dimensions and skip plotting the data."
   ]
  },
  {
   "cell_type": "code",
   "execution_count": 93,
   "id": "981a82d1-dac1-4371-9781-e76659abf68c",
   "metadata": {},
   "outputs": [
    {
     "name": "stdout",
     "output_type": "stream",
     "text": [
      "Accuracy of the custom KNN classifier: 1.00\n",
      "Accuracy of sklearn KNN classifier: 1.00\n",
      "Custom KNN classifier accuracy: 1.00\n",
      "sklearn KNN classifier accuracy: 1.00\n"
     ]
    }
   ],
   "source": [
    "df = pd.read_csv('iris.csv')\n",
    "df.columns = ['sepal.length', 'sepal.width', 'petal.length', 'petal.width', 'variety']\n",
    "test_set = df.groupby('variety').head(3)\n",
    "train_set = df.drop(test_set.index)\n",
    "X_train = train_set[['sepal.length', 'sepal.width', 'petal.length', 'petal.width']].to_numpy()\n",
    "y_train = train_set['variety'].to_numpy()\n",
    "X_test = test_set[['sepal.length', 'sepal.width', 'petal.length', 'petal.width']].to_numpy()\n",
    "y_test = test_set['variety'].to_numpy()\n",
    "K = 3\n",
    "distances = cdist(X_test, X_train, metric='euclidean')\n",
    "\n",
    "def predict_class(distances_row, y_train, K):\n",
    "    nearest_neighbors_indices = np.argsort(distances_row)[:K]\n",
    "    nearest_classes = y_train[nearest_neighbors_indices]\n",
    "    majority_class = Counter(nearest_classes).most_common(1)[0][0]\n",
    "    return majority_class\n",
    "\n",
    "predicted_classes = [predict_class(row, y_train, K) for row in distances]\n",
    "accuracy = accuracy_score(y_test, predicted_classes)\n",
    "print(f\"Accuracy of the custom KNN classifier: {accuracy:.2f}\")\n",
    "knn = KNeighborsClassifier(n_neighbors=K)\n",
    "knn.fit(X_train, y_train)\n",
    "sklearn_predictions = knn.predict(X_test)\n",
    "sklearn_accuracy = accuracy_score(y_test, sklearn_predictions)\n",
    "print(f\"Accuracy of sklearn KNN classifier: {sklearn_accuracy:.2f}\")\n",
    "print(f\"Custom KNN classifier accuracy: {accuracy:.2f}\")\n",
    "print(f\"sklearn KNN classifier accuracy: {sklearn_accuracy:.2f}\")\n"
   ]
  },
  {
   "cell_type": "markdown",
   "id": "7951ee03-a152-4674-a643-360014aafd38",
   "metadata": {},
   "source": [
    "3.  For the same IRIS dataset, your next task is to perform correlation analysis to understand the relationships between these attributes."
   ]
  },
  {
   "cell_type": "code",
   "execution_count": 76,
   "id": "d744f224-1cd5-4da2-ab44-dc64cd3fa6d7",
   "metadata": {},
   "outputs": [
    {
     "name": "stdout",
     "output_type": "stream",
     "text": [
      "   sepal.length  sepal.width  petal.length  petal.width variety\n",
      "0           5.1          3.5           1.4          0.2  Setosa\n",
      "1           4.9          3.0           1.4          0.2  Setosa\n",
      "2           4.7          3.2           1.3          0.2  Setosa\n",
      "3           4.6          3.1           1.5          0.2  Setosa\n",
      "4           5.0          3.6           1.4          0.2  Setosa\n",
      "Index(['sepal.length', 'sepal.width', 'petal.length', 'petal.width',\n",
      "       'variety'],\n",
      "      dtype='object')\n"
     ]
    }
   ],
   "source": [
    "df = pd.read_csv('iris.csv')\n",
    "\n",
    "print(df.head())\n",
    "print(df.columns)"
   ]
  },
  {
   "cell_type": "code",
   "execution_count": 77,
   "id": "dae9f81d-a758-46dd-9df0-670ae26aec63",
   "metadata": {},
   "outputs": [
    {
     "name": "stdout",
     "output_type": "stream",
     "text": [
      "       sepal.length  sepal.width  petal.length  petal.width\n",
      "count    150.000000   150.000000    150.000000   150.000000\n",
      "mean       5.843333     3.057333      3.758000     1.199333\n",
      "std        0.828066     0.435866      1.765298     0.762238\n",
      "min        4.300000     2.000000      1.000000     0.100000\n",
      "25%        5.100000     2.800000      1.600000     0.300000\n",
      "50%        5.800000     3.000000      4.350000     1.300000\n",
      "75%        6.400000     3.300000      5.100000     1.800000\n",
      "max        7.900000     4.400000      6.900000     2.500000\n"
     ]
    }
   ],
   "source": [
    "print(df.describe())"
   ]
  },
  {
   "cell_type": "code",
   "execution_count": 58,
   "id": "eaf4a2e6-c969-402c-af21-74c212fa1805",
   "metadata": {},
   "outputs": [
    {
     "name": "stdout",
     "output_type": "stream",
     "text": [
      "              sepal.length  sepal.width  petal.length  petal.width\n",
      "sepal.length      1.000000    -0.117570      0.871754     0.817941\n",
      "sepal.width      -0.117570     1.000000     -0.428440    -0.366126\n",
      "petal.length      0.871754    -0.428440      1.000000     0.962865\n",
      "petal.width       0.817941    -0.366126      0.962865     1.000000\n"
     ]
    },
    {
     "data": {
      "image/png": "[encoded data removed]",
      "text/plain": [
       "<Figure size 640x480 with 2 Axes>"
      ]
     },
     "metadata": {},
     "output_type": "display_data"
    }
   ],
   "source": [
    "'''numerical_df = df.select_dtypes(include=[float, int])\n",
    "print(numerical_df.head())\n",
    "correlation_matrix = numerical_df.corr()\n",
    "print(correlation_matrix)\n",
    "\n",
    "plt.figure(figsize=(10, 8))\n",
    "\n",
    "sns.heatmap(correlation_matrix, annot=True, cmap='coolwarm', fmt='.2f', linewidths=0.5)\n",
    "plt.title('Correlation Matrix of Iris Dataset Attributes')\n",
    "plt.show()\n",
    "threshold = 0.7\n",
    "highly_correlated = (correlation_matrix[(correlation_matrix > threshold) | (correlation_matrix < -threshold)]\n",
    "                     .stack()\n",
    "                     .reset_index()\n",
    "                     .rename(columns={0: 'correlation'}))\n",
    "\n",
    "print(highly_correlated)'''\n",
    "\n",
    "def correlation(a,b):\n",
    "    mean_a=sum(a)/len(a)\n",
    "    mean_b=sum(b)/len(b)\n",
    "    numerator=np.sum((a-mean_a)*(b-mean_b))\n",
    "    denominator=np.sqrt(np.sum((a-mean_a)**2) * (np.sum((b-mean_b)**2)))\n",
    "    return numerator/denominator\n",
    "\n",
    "correlation_matrix=[]\n",
    "numerical_df = df.select_dtypes(include=[float, int]).to_numpy().T\n",
    "\n",
    "for i in numerical_df:\n",
    "    temp=[]\n",
    "    for j in numerical_df:\n",
    "        temp.append(correlation(i,j))\n",
    "    correlation_matrix.append(temp)\n",
    "df_display=pd.DataFrame(correlation_matrix,columns=df.select_dtypes(include=[float, int]).columns.to_numpy(),index=df.select_dtypes(include=[float, int]).columns.to_numpy())\n",
    "print(df_display)\n",
    "sns.heatmap(data=df_display)        \n",
    "plt.title('Correlation Matrix')   \n",
    "plt.show()\n",
    "#print(numerical_df.to_numpy().T)\n"
   ]
  },
  {
   "cell_type": "markdown",
   "id": "9931b3d2-bb3f-4597-9dd2-c7afa678e034",
   "metadata": {},
   "source": [
    "Given (hq − ht)^T = (0.5 0.5 -0.5 -0.25 -0.25) and \n",
    "Find the quadratic form distance.\n"
   ]
  },
  {
   "cell_type": "code",
   "execution_count": 86,
   "id": "6254ac17-38cc-4fcd-bd4f-c4c5f760641c",
   "metadata": {},
   "outputs": [
    {
     "name": "stdout",
     "output_type": "stream",
     "text": [
      "Quadratic form distance : 0.6976249999999999\n"
     ]
    }
   ],
   "source": [
    "\n",
    "v = np.array([0.5, 0.5, -0.5, -0.25, -0.25])\n",
    "\n",
    "A = np.array([\n",
    "    [1, 0.135, 0.195, 0.137, 0.157],\n",
    "    [0.135, 1, 0.2, 0.309, 0.143],\n",
    "    [0.195, 0.2, 1, 0.157, 0.122],\n",
    "    [0.137, 0.309, 0.517, 1, 0.195],\n",
    "    [0.157, 0.143, 0.122, 0.195, 1]\n",
    "])\n",
    "\n",
    "\n",
    "d_squared = np.dot(v, np.dot(A, v))\n",
    "\n",
    "print(f\"Quadratic form distance : {d_squared}\")"
   ]
  }
 ],
 "metadata": {
  "kernelspec": {
   "display_name": "Python 3 (ipykernel)",
   "language": "python",
   "name": "python3"
  },
  "language_info": {
   "codemirror_mode": {
    "name": "ipython",
    "version": 3
   },
   "file_extension": ".py",
   "mimetype": "text/x-python",
   "name": "python",
   "nbconvert_exporter": "python",
   "pygments_lexer": "ipython3",
   "version": "3.10.11"
  },
  "widgets": {
   "application/vnd.jupyter.widget-state+json": {
    "state": {},
    "version_major": 2,
    "version_minor": 0
   }
  }
 },
 "nbformat": 4,
 "nbformat_minor": 5
}
