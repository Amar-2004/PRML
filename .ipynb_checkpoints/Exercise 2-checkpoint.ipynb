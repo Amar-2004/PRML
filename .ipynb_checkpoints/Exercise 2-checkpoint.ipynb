{
 "cells": [
  {
   "cell_type": "markdown",
   "id": "b29ce07c-2648-499e-8e37-dfd1cafb0855",
   "metadata": {},
   "source": [
    "## Ex No.2 Pandas and Matplotlib"
   ]
  },
  {
   "cell_type": "markdown",
   "id": "87e904d0-b550-4df4-bdf8-5eb463bd09fc",
   "metadata": {},
   "source": [
    "## A Amar Rohith\n",
    "##  EC21B1106"
   ]
  },
  {
   "cell_type": "code",
   "execution_count": 2,
   "id": "a94fd02d-b09e-40c0-8102-bcb7d36b79fd",
   "metadata": {},
   "outputs": [],
   "source": [
    "import numpy as np\n",
    "import pandas as pd \n",
    "import random"
   ]
  },
  {
   "cell_type": "markdown",
   "id": "402f03f5-2d0b-4877-a07e-77e19eebc345",
   "metadata": {},
   "source": [
    " 1. Series Creation and Access\n",
    " a) Create a Pandas Series using a list of the first 10 prime numbers.\n",
    " b) Create a Pandas Series using a NumPy array of 5 random numbers\n",
    " between 0 and 1.\n",
    " c) Create a Pandas Series using a dictionary where the keys are 'A', 'B', 'C',\n",
    " 'D', 'E' and the values are random integers between 1 and 100.\n",
    " d) For the Series created in (c), access and print the value associated with\n",
    " key 'C'"
   ]
  },
  {
   "cell_type": "code",
   "execution_count": 4,
   "id": "715f9c15-0b9b-4d2e-ab11-ddd563c4b760",
   "metadata": {},
   "outputs": [
    {
     "name": "stdout",
     "output_type": "stream",
     "text": [
      "0     2\n",
      "1     3\n",
      "2     5\n",
      "3     7\n",
      "4    11\n",
      "5    13\n",
      "6    17\n",
      "7    19\n",
      "8    23\n",
      "9    29\n",
      "dtype: int64\n"
     ]
    }
   ],
   "source": [
    "p_number=pd.Series([2,3,5,7,11,13,17,19,23,29])\n",
    "print(p_number)"
   ]
  },
  {
   "cell_type": "code",
   "execution_count": 22,
   "id": "208b6503-8797-4250-b7f0-addb6e76f76a",
   "metadata": {},
   "outputs": [
    {
     "name": "stdout",
     "output_type": "stream",
     "text": [
      "[0.5705713  0.0327933  0.14608465 0.06856903 0.73307364]\n",
      "0    0.570571\n",
      "1    0.032793\n",
      "2    0.146085\n",
      "3    0.068569\n",
      "4    0.733074\n",
      "dtype: float64\n"
     ]
    }
   ],
   "source": [
    "random_numbers=np.random.rand(5)\n",
    "print(random_numbers)\n",
    "series=pd.Series(random_numbers)\n",
    "print(series)"
   ]
  },
  {
   "cell_type": "code",
   "execution_count": 32,
   "id": "eb36a5bb-dc0b-4bab-a702-f51df8e31bc9",
   "metadata": {},
   "outputs": [
    {
     "name": "stdout",
     "output_type": "stream",
     "text": [
      "A    [64, 37, 66, 97, 85]\n",
      "B    [54, 66, 29, 35, 91]\n",
      "C    [45, 91, 64, 27, 93]\n",
      "D      [9, 21, 42, 16, 9]\n",
      "E    [78, 75, 88, 11, 53]\n",
      "dtype: object\n"
     ]
    }
   ],
   "source": [
    "dic={'A':np.random.randint(1,100,5),'B':np.random.randint(1,100,5),'C':np.random.randint(1,100,5),'D':np.random.randint(1,100,5),'E':np.random.randint(1,100,5)}\n",
    "series=pd.Series(dic)\n",
    "print(series)"
   ]
  },
  {
   "cell_type": "code",
   "execution_count": 26,
   "id": "93fae703-b1bd-4c6d-a6aa-a20face1be10",
   "metadata": {},
   "outputs": [
    {
     "name": "stdout",
     "output_type": "stream",
     "text": [
      "64\n"
     ]
    }
   ],
   "source": [
    "val_C=series.get('C')\n",
    "print(val_C)\n"
   ]
  },
  {
   "cell_type": "markdown",
   "id": "a8f3f7d9-3f7f-409f-8d5f-e64c3195f5b1",
   "metadata": {},
   "source": [
    "# 2. DataFrame Creation"
   ]
  },
  {
   "cell_type": "markdown",
   "id": "37762027-d944-4804-9f12-83438462f16f",
   "metadata": {},
   "source": [
    " a) Create a DataFrame using a dictionary where each key is a column name\n",
    " and each value is a list of 5 random integers between 1 and 100. Use the\n",
    " column names 'A', 'B', and 'C'.\n",
    " b) Create a DataFrame with 3 columns and 4 rows of random numbers\n",
    " between 0 and 1. Set the index to ['W', 'X', 'Y', 'Z'] and the column names to\n",
    " ['Col1', 'Col2', 'Col3']."
   ]
  },
  {
   "cell_type": "code",
   "execution_count": 30,
   "id": "c95ba865-f42a-4d76-b59f-ffa88f97abaf",
   "metadata": {},
   "outputs": [
    {
     "name": "stdout",
     "output_type": "stream",
     "text": [
      "    A   B   C\n",
      "0  65  57  68\n",
      "1  15  76  45\n",
      "2  23  45  17\n",
      "3  36  26  41\n",
      "4  38  49  35\n"
     ]
    }
   ],
   "source": [
    "dic={'A':np.random.randint(1,100,5),'B':np.random.randint(1,100,5),'C':np.random.randint(1,100,5)}\n",
    "\n",
    "df=pd.DataFrame(dic)\n",
    "\n",
    "print(df)"
   ]
  },
  {
   "cell_type": "code",
   "execution_count": 3,
   "id": "ee9b3427-6031-4c76-8f91-5c7b8269ee08",
   "metadata": {},
   "outputs": [
    {
     "name": "stdout",
     "output_type": "stream",
     "text": [
      "\n",
      "DataFrame df2:\n",
      "        Col1      Col2      Col3\n",
      "W  0.496724  0.283737  0.104759\n",
      "X  0.836255  0.319336  0.579732\n",
      "Y  0.983098  0.110247  0.746144\n",
      "Z  0.297762  0.275100  0.620512\n"
     ]
    }
   ],
   "source": [
    "df2 = pd.DataFrame(np.random.rand(4, 3), index=['W', 'X', 'Y', 'Z'], columns=['Col1', 'Col2', 'Col3'])\n",
    "print(\"\\nDataFrame df2:\\n\", df2)"
   ]
  },
  {
   "cell_type": "markdown",
   "id": "71e5c3f4-e573-4d02-a0f6-2074ee72746e",
   "metadata": {},
   "source": [
    "3. Loading and Writing Data\n",
    "a) Load the 'heart_failure_prediction.csv' file into a DataFrame"
   ]
  },
  {
   "cell_type": "code",
   "execution_count": 5,
   "id": "22ce0474-0f74-485c-b936-e6da96a91ac4",
   "metadata": {},
   "outputs": [],
   "source": [
    "df_heart = pd.read_csv('heart.csv')\n"
   ]
  },
  {
   "cell_type": "markdown",
   "id": "919a097b-387d-4e26-8c33-244a443becce",
   "metadata": {},
   "source": [
    "b) Write the first 100 rows to a new CSV file"
   ]
  },
  {
   "cell_type": "code",
   "execution_count": 6,
   "id": "1600e369-d8d0-441c-b796-726da8fc77fb",
   "metadata": {},
   "outputs": [],
   "source": [
    "df_heart.head(100).to_csv('heart_failure_sample.csv', index=False)\n"
   ]
  },
  {
   "cell_type": "markdown",
   "id": "5956bdf6-eb4c-46f5-a908-452a2982f5d0",
   "metadata": {},
   "source": [
    " c) Write the entire DataFrame to an Excel file"
   ]
  },
  {
   "cell_type": "code",
   "execution_count": 7,
   "id": "ff3c86bc-c7ec-413e-ad84-98a83a2462bb",
   "metadata": {},
   "outputs": [
    {
     "ename": "ModuleNotFoundError",
     "evalue": "No module named 'openpyxl'",
     "output_type": "error",
     "traceback": [
      "\u001b[1;31m---------------------------------------------------------------------------\u001b[0m",
      "\u001b[1;31mModuleNotFoundError\u001b[0m                       Traceback (most recent call last)",
      "Cell \u001b[1;32mIn[7], line 1\u001b[0m\n\u001b[1;32m----> 1\u001b[0m \u001b[43mdf_heart\u001b[49m\u001b[38;5;241;43m.\u001b[39;49m\u001b[43mto_excel\u001b[49m\u001b[43m(\u001b[49m\u001b[38;5;124;43m'\u001b[39;49m\u001b[38;5;124;43mheart_failure_data.xlsx\u001b[39;49m\u001b[38;5;124;43m'\u001b[39;49m\u001b[43m,\u001b[49m\u001b[43m \u001b[49m\u001b[43mindex\u001b[49m\u001b[38;5;241;43m=\u001b[39;49m\u001b[38;5;28;43;01mFalse\u001b[39;49;00m\u001b[43m)\u001b[49m\n",
      "File \u001b[1;32m~\\AppData\\Local\\Packages\\PythonSoftwareFoundation.Python.3.10_qbz5n2kfra8p0\\LocalCache\\local-packages\\Python310\\site-packages\\pandas\\core\\generic.py:2345\u001b[0m, in \u001b[0;36mNDFrame.to_excel\u001b[1;34m(self, excel_writer, sheet_name, na_rep, float_format, columns, header, index, index_label, startrow, startcol, engine, merge_cells, inf_rep, freeze_panes, storage_options, engine_kwargs)\u001b[0m\n\u001b[0;32m   2332\u001b[0m \u001b[38;5;28;01mfrom\u001b[39;00m \u001b[38;5;21;01mpandas\u001b[39;00m\u001b[38;5;21;01m.\u001b[39;00m\u001b[38;5;21;01mio\u001b[39;00m\u001b[38;5;21;01m.\u001b[39;00m\u001b[38;5;21;01mformats\u001b[39;00m\u001b[38;5;21;01m.\u001b[39;00m\u001b[38;5;21;01mexcel\u001b[39;00m \u001b[38;5;28;01mimport\u001b[39;00m ExcelFormatter\n\u001b[0;32m   2334\u001b[0m formatter \u001b[38;5;241m=\u001b[39m ExcelFormatter(\n\u001b[0;32m   2335\u001b[0m     df,\n\u001b[0;32m   2336\u001b[0m     na_rep\u001b[38;5;241m=\u001b[39mna_rep,\n\u001b[1;32m   (...)\u001b[0m\n\u001b[0;32m   2343\u001b[0m     inf_rep\u001b[38;5;241m=\u001b[39minf_rep,\n\u001b[0;32m   2344\u001b[0m )\n\u001b[1;32m-> 2345\u001b[0m \u001b[43mformatter\u001b[49m\u001b[38;5;241;43m.\u001b[39;49m\u001b[43mwrite\u001b[49m\u001b[43m(\u001b[49m\n\u001b[0;32m   2346\u001b[0m \u001b[43m    \u001b[49m\u001b[43mexcel_writer\u001b[49m\u001b[43m,\u001b[49m\n\u001b[0;32m   2347\u001b[0m \u001b[43m    \u001b[49m\u001b[43msheet_name\u001b[49m\u001b[38;5;241;43m=\u001b[39;49m\u001b[43msheet_name\u001b[49m\u001b[43m,\u001b[49m\n\u001b[0;32m   2348\u001b[0m \u001b[43m    \u001b[49m\u001b[43mstartrow\u001b[49m\u001b[38;5;241;43m=\u001b[39;49m\u001b[43mstartrow\u001b[49m\u001b[43m,\u001b[49m\n\u001b[0;32m   2349\u001b[0m \u001b[43m    \u001b[49m\u001b[43mstartcol\u001b[49m\u001b[38;5;241;43m=\u001b[39;49m\u001b[43mstartcol\u001b[49m\u001b[43m,\u001b[49m\n\u001b[0;32m   2350\u001b[0m \u001b[43m    \u001b[49m\u001b[43mfreeze_panes\u001b[49m\u001b[38;5;241;43m=\u001b[39;49m\u001b[43mfreeze_panes\u001b[49m\u001b[43m,\u001b[49m\n\u001b[0;32m   2351\u001b[0m \u001b[43m    \u001b[49m\u001b[43mengine\u001b[49m\u001b[38;5;241;43m=\u001b[39;49m\u001b[43mengine\u001b[49m\u001b[43m,\u001b[49m\n\u001b[0;32m   2352\u001b[0m \u001b[43m    \u001b[49m\u001b[43mstorage_options\u001b[49m\u001b[38;5;241;43m=\u001b[39;49m\u001b[43mstorage_options\u001b[49m\u001b[43m,\u001b[49m\n\u001b[0;32m   2353\u001b[0m \u001b[43m    \u001b[49m\u001b[43mengine_kwargs\u001b[49m\u001b[38;5;241;43m=\u001b[39;49m\u001b[43mengine_kwargs\u001b[49m\u001b[43m,\u001b[49m\n\u001b[0;32m   2354\u001b[0m \u001b[43m\u001b[49m\u001b[43m)\u001b[49m\n",
      "File \u001b[1;32m~\\AppData\\Local\\Packages\\PythonSoftwareFoundation.Python.3.10_qbz5n2kfra8p0\\LocalCache\\local-packages\\Python310\\site-packages\\pandas\\io\\formats\\excel.py:946\u001b[0m, in \u001b[0;36mExcelFormatter.write\u001b[1;34m(self, writer, sheet_name, startrow, startcol, freeze_panes, engine, storage_options, engine_kwargs)\u001b[0m\n\u001b[0;32m    942\u001b[0m     need_save \u001b[38;5;241m=\u001b[39m \u001b[38;5;28;01mFalse\u001b[39;00m\n\u001b[0;32m    943\u001b[0m \u001b[38;5;28;01melse\u001b[39;00m:\n\u001b[0;32m    944\u001b[0m     \u001b[38;5;66;03m# error: Cannot instantiate abstract class 'ExcelWriter' with abstract\u001b[39;00m\n\u001b[0;32m    945\u001b[0m     \u001b[38;5;66;03m# attributes 'engine', 'save', 'supported_extensions' and 'write_cells'\u001b[39;00m\n\u001b[1;32m--> 946\u001b[0m     writer \u001b[38;5;241m=\u001b[39m \u001b[43mExcelWriter\u001b[49m\u001b[43m(\u001b[49m\u001b[43m  \u001b[49m\u001b[38;5;66;43;03m# type: ignore[abstract]\u001b[39;49;00m\n\u001b[0;32m    947\u001b[0m \u001b[43m        \u001b[49m\u001b[43mwriter\u001b[49m\u001b[43m,\u001b[49m\n\u001b[0;32m    948\u001b[0m \u001b[43m        \u001b[49m\u001b[43mengine\u001b[49m\u001b[38;5;241;43m=\u001b[39;49m\u001b[43mengine\u001b[49m\u001b[43m,\u001b[49m\n\u001b[0;32m    949\u001b[0m \u001b[43m        \u001b[49m\u001b[43mstorage_options\u001b[49m\u001b[38;5;241;43m=\u001b[39;49m\u001b[43mstorage_options\u001b[49m\u001b[43m,\u001b[49m\n\u001b[0;32m    950\u001b[0m \u001b[43m        \u001b[49m\u001b[43mengine_kwargs\u001b[49m\u001b[38;5;241;43m=\u001b[39;49m\u001b[43mengine_kwargs\u001b[49m\u001b[43m,\u001b[49m\n\u001b[0;32m    951\u001b[0m \u001b[43m    \u001b[49m\u001b[43m)\u001b[49m\n\u001b[0;32m    952\u001b[0m     need_save \u001b[38;5;241m=\u001b[39m \u001b[38;5;28;01mTrue\u001b[39;00m\n\u001b[0;32m    954\u001b[0m \u001b[38;5;28;01mtry\u001b[39;00m:\n",
      "File \u001b[1;32m~\\AppData\\Local\\Packages\\PythonSoftwareFoundation.Python.3.10_qbz5n2kfra8p0\\LocalCache\\local-packages\\Python310\\site-packages\\pandas\\io\\excel\\_openpyxl.py:57\u001b[0m, in \u001b[0;36mOpenpyxlWriter.__init__\u001b[1;34m(self, path, engine, date_format, datetime_format, mode, storage_options, if_sheet_exists, engine_kwargs, **kwargs)\u001b[0m\n\u001b[0;32m     44\u001b[0m \u001b[38;5;28;01mdef\u001b[39;00m \u001b[38;5;21m__init__\u001b[39m(\n\u001b[0;32m     45\u001b[0m     \u001b[38;5;28mself\u001b[39m,\n\u001b[0;32m     46\u001b[0m     path: FilePath \u001b[38;5;241m|\u001b[39m WriteExcelBuffer \u001b[38;5;241m|\u001b[39m ExcelWriter,\n\u001b[1;32m   (...)\u001b[0m\n\u001b[0;32m     55\u001b[0m ) \u001b[38;5;241m-\u001b[39m\u001b[38;5;241m>\u001b[39m \u001b[38;5;28;01mNone\u001b[39;00m:\n\u001b[0;32m     56\u001b[0m     \u001b[38;5;66;03m# Use the openpyxl module as the Excel writer.\u001b[39;00m\n\u001b[1;32m---> 57\u001b[0m     \u001b[38;5;28;01mfrom\u001b[39;00m \u001b[38;5;21;01mopenpyxl\u001b[39;00m\u001b[38;5;21;01m.\u001b[39;00m\u001b[38;5;21;01mworkbook\u001b[39;00m \u001b[38;5;28;01mimport\u001b[39;00m Workbook\n\u001b[0;32m     59\u001b[0m     engine_kwargs \u001b[38;5;241m=\u001b[39m combine_kwargs(engine_kwargs, kwargs)\n\u001b[0;32m     61\u001b[0m     \u001b[38;5;28msuper\u001b[39m()\u001b[38;5;241m.\u001b[39m\u001b[38;5;21m__init__\u001b[39m(\n\u001b[0;32m     62\u001b[0m         path,\n\u001b[0;32m     63\u001b[0m         mode\u001b[38;5;241m=\u001b[39mmode,\n\u001b[1;32m   (...)\u001b[0m\n\u001b[0;32m     66\u001b[0m         engine_kwargs\u001b[38;5;241m=\u001b[39mengine_kwargs,\n\u001b[0;32m     67\u001b[0m     )\n",
      "\u001b[1;31mModuleNotFoundError\u001b[0m: No module named 'openpyxl'"
     ]
    }
   ],
   "source": [
    "df_heart.to_excel('heart_failure_data.xlsx', index=False)"
   ]
  },
  {
   "cell_type": "markdown",
   "id": "3bff50c4-e34f-462d-816a-43f530867e19",
   "metadata": {},
   "source": [
    "d) Write the DataFrame to a JSON file"
   ]
  },
  {
   "cell_type": "code",
   "execution_count": 9,
   "id": "2ec8c771-5ffd-490e-89ec-6ba446f3261d",
   "metadata": {},
   "outputs": [],
   "source": [
    "df_heart.to_json('heart_failure_data.json')"
   ]
  },
  {
   "cell_type": "markdown",
   "id": "3942e49f-2899-45fb-b59f-69208b2d804a",
   "metadata": {},
   "source": [
    " 4. DataFrame Information\n",
    " a) Display info of the DataFrame"
   ]
  },
  {
   "cell_type": "code",
   "execution_count": 10,
   "id": "67bb23cd-4a9f-422c-83eb-ef325c62c67e",
   "metadata": {},
   "outputs": [
    {
     "name": "stdout",
     "output_type": "stream",
     "text": [
      "\n",
      "DataFrame Info:\n",
      "\n",
      "<class 'pandas.core.frame.DataFrame'>\n",
      "RangeIndex: 918 entries, 0 to 917\n",
      "Data columns (total 12 columns):\n",
      " #   Column          Non-Null Count  Dtype  \n",
      "---  ------          --------------  -----  \n",
      " 0   Age             918 non-null    int64  \n",
      " 1   Sex             918 non-null    object \n",
      " 2   ChestPainType   918 non-null    object \n",
      " 3   RestingBP       918 non-null    int64  \n",
      " 4   Cholesterol     918 non-null    int64  \n",
      " 5   FastingBS       918 non-null    int64  \n",
      " 6   RestingECG      918 non-null    object \n",
      " 7   MaxHR           918 non-null    int64  \n",
      " 8   ExerciseAngina  918 non-null    object \n",
      " 9   Oldpeak         918 non-null    float64\n",
      " 10  ST_Slope        918 non-null    object \n",
      " 11  HeartDisease    918 non-null    int64  \n",
      "dtypes: float64(1), int64(6), object(5)\n",
      "memory usage: 86.2+ KB\n"
     ]
    }
   ],
   "source": [
    "print(\"\\nDataFrame Info:\\n\")\n",
    "df_heart.info()"
   ]
  },
  {
   "cell_type": "markdown",
   "id": "67a5b62e-4e65-4740-8f18-39faf16695d9",
   "metadata": {},
   "source": [
    "b) Show the first 10 rows"
   ]
  },
  {
   "cell_type": "code",
   "execution_count": 11,
   "id": "b0010bbc-54db-431b-bede-b8fa291104e9",
   "metadata": {},
   "outputs": [
    {
     "name": "stdout",
     "output_type": "stream",
     "text": [
      "\n",
      "First 10 rows of the DataFrame:\n",
      "    Age Sex ChestPainType  RestingBP  Cholesterol  FastingBS RestingECG  MaxHR  \\\n",
      "0   40   M           ATA        140          289          0     Normal    172   \n",
      "1   49   F           NAP        160          180          0     Normal    156   \n",
      "2   37   M           ATA        130          283          0         ST     98   \n",
      "3   48   F           ASY        138          214          0     Normal    108   \n",
      "4   54   M           NAP        150          195          0     Normal    122   \n",
      "5   39   M           NAP        120          339          0     Normal    170   \n",
      "6   45   F           ATA        130          237          0     Normal    170   \n",
      "7   54   M           ATA        110          208          0     Normal    142   \n",
      "8   37   M           ASY        140          207          0     Normal    130   \n",
      "9   48   F           ATA        120          284          0     Normal    120   \n",
      "\n",
      "  ExerciseAngina  Oldpeak ST_Slope  HeartDisease  \n",
      "0              N      0.0       Up             0  \n",
      "1              N      1.0     Flat             1  \n",
      "2              N      0.0       Up             0  \n",
      "3              Y      1.5     Flat             1  \n",
      "4              N      0.0       Up             0  \n",
      "5              N      0.0       Up             0  \n",
      "6              N      0.0       Up             0  \n",
      "7              N      0.0       Up             0  \n",
      "8              Y      1.5     Flat             1  \n",
      "9              N      0.0       Up             0  \n"
     ]
    }
   ],
   "source": [
    "print(\"\\nFirst 10 rows of the DataFrame:\\n\", df_heart.head(10))"
   ]
  },
  {
   "cell_type": "markdown",
   "id": "52fd38e5-138a-448c-bcf6-db4718c74e8e",
   "metadata": {},
   "source": [
    " c) Show the last 5 rows"
   ]
  },
  {
   "cell_type": "code",
   "execution_count": 12,
   "id": "04ace9e4-4217-43b6-a50b-554723374f8f",
   "metadata": {},
   "outputs": [
    {
     "name": "stdout",
     "output_type": "stream",
     "text": [
      "\n",
      "Last 5 rows of the DataFrame:\n",
      "      Age Sex ChestPainType  RestingBP  Cholesterol  FastingBS RestingECG  \\\n",
      "913   45   M            TA        110          264          0     Normal   \n",
      "914   68   M           ASY        144          193          1     Normal   \n",
      "915   57   M           ASY        130          131          0     Normal   \n",
      "916   57   F           ATA        130          236          0        LVH   \n",
      "917   38   M           NAP        138          175          0     Normal   \n",
      "\n",
      "     MaxHR ExerciseAngina  Oldpeak ST_Slope  HeartDisease  \n",
      "913    132              N      1.2     Flat             1  \n",
      "914    141              N      3.4     Flat             1  \n",
      "915    115              Y      1.2     Flat             1  \n",
      "916    174              N      0.0     Flat             1  \n",
      "917    173              N      0.0       Up             0  \n"
     ]
    }
   ],
   "source": [
    "print(\"\\nLast 5 rows of the DataFrame:\\n\", df_heart.tail(5))\n"
   ]
  },
  {
   "cell_type": "markdown",
   "id": "e4265b50-6e49-4ce5-bb1c-e6185c6bdb98",
   "metadata": {},
   "source": [
    "5. Column Operations\n",
    " a) Extract and display 'Age' and 'Sex' columns b) Add a new column 'AgeGroup'"
   ]
  },
  {
   "cell_type": "code",
   "execution_count": 14,
   "id": "0f1e9376-81c5-48ec-b3bd-dac4e3ef12ec",
   "metadata": {},
   "outputs": [
    {
     "name": "stdout",
     "output_type": "stream",
     "text": [
      "\n",
      "'Age' and 'Sex' columns:\n",
      "      Age Sex\n",
      "0     40   M\n",
      "1     49   F\n",
      "2     37   M\n",
      "3     48   F\n",
      "4     54   M\n",
      "..   ...  ..\n",
      "913   45   M\n",
      "914   68   M\n",
      "915   57   M\n",
      "916   57   F\n",
      "917   38   M\n",
      "\n",
      "[918 rows x 2 columns]\n",
      "\n",
      "DataFrame with 'AgeGroup' column:\n",
      "      Age     AgeGroup\n",
      "0     40        Young\n",
      "1     49        Young\n",
      "2     37        Young\n",
      "3     48        Young\n",
      "4     54  Middle-aged\n",
      "..   ...          ...\n",
      "913   45        Young\n",
      "914   68  Middle-aged\n",
      "915   57  Middle-aged\n",
      "916   57  Middle-aged\n",
      "917   38        Young\n",
      "\n",
      "[918 rows x 2 columns]\n"
     ]
    }
   ],
   "source": [
    "print(\"\\n'Age' and 'Sex' columns:\\n\", df_heart[['Age', 'Sex']])\n",
    "df_heart['AgeGroup'] = pd.cut(df_heart['Age'], bins=[0, 50, 70, np.inf], labels=['Young', 'Middle-aged', 'Senior'])\n",
    "print(\"\\nDataFrame with 'AgeGroup' column:\\n\", df_heart[['Age', 'AgeGroup']])"
   ]
  },
  {
   "cell_type": "markdown",
   "id": "712ce2c4-2d90-44c8-975b-93c6513d75bb",
   "metadata": {},
   "source": [
    " 6. Accessing Data\n",
    "a) Access the value in the 5th row and 3rd column using direct indexing\n",
    "b) Use loc to select rows where 'Sex' is 'M' and display 'Age' and 'ChestPainType\n",
    "c) Use iloc to select the first 5 rows and 2nd to 4th columns"
   ]
  },
  {
   "cell_type": "code",
   "execution_count": 15,
   "id": "ef25f6a8-6545-42a8-ac52-a94e78d9fd16",
   "metadata": {},
   "outputs": [
    {
     "name": "stdout",
     "output_type": "stream",
     "text": [
      "\n",
      "Value at 5th row, 3rd column (direct indexing): NAP\n",
      "\n",
      "Male patients' 'Age' and 'ChestPainType':\n",
      "      Age ChestPainType\n",
      "0     40           ATA\n",
      "2     37           ATA\n",
      "4     54           NAP\n",
      "5     39           NAP\n",
      "7     54           ATA\n",
      "..   ...           ...\n",
      "911   59           ASY\n",
      "913   45            TA\n",
      "914   68           ASY\n",
      "915   57           ASY\n",
      "917   38           NAP\n",
      "\n",
      "[725 rows x 2 columns]\n",
      "\n",
      "First 5 rows, columns 2-4 (iloc):\n",
      "   Sex ChestPainType  RestingBP\n",
      "0   M           ATA        140\n",
      "1   F           NAP        160\n",
      "2   M           ATA        130\n",
      "3   F           ASY        138\n",
      "4   M           NAP        150\n"
     ]
    }
   ],
   "source": [
    "value_direct = df_heart.iloc[4, 2]\n",
    "print(\"\\nValue at 5th row, 3rd column (direct indexing):\", value_direct)\n",
    "male_patients = df_heart.loc[df_heart['Sex'] == 'M', ['Age', 'ChestPainType']]\n",
    "print(\"\\nMale patients' 'Age' and 'ChestPainType':\\n\", male_patients)\n",
    "iloc_selection = df_heart.iloc[:5, 1:4]\n",
    "print(\"\\nFirst 5 rows, columns 2-4 (iloc):\\n\", iloc_selection)"
   ]
  },
  {
   "cell_type": "markdown",
   "id": "ca021383-2c75-411e-a81b-e2fd769fa207",
   "metadata": {},
   "source": [
    " 7. Conditional Statements\n",
    "a) Create a new DataFrame for patients over 60 with heart disease\n",
    "b) Find the average age for each chest pain type\n"
   ]
  },
  {
   "cell_type": "code",
   "execution_count": 17,
   "id": "abd7228f-e854-4d72-9a25-23522452f09f",
   "metadata": {},
   "outputs": [
    {
     "name": "stdout",
     "output_type": "stream",
     "text": [
      "\n",
      "Patients over 60 with heart disease:\n",
      "      Age Sex ChestPainType  RestingBP  Cholesterol  FastingBS RestingECG  \\\n",
      "36    65   M           ASY        140          306          1     Normal   \n",
      "82    63   M           ASY        150          223          0     Normal   \n",
      "85    66   M           ASY        140          139          0     Normal   \n",
      "86    65   M           ASY        170          263          1     Normal   \n",
      "100   65   M           ASY        130          275          0         ST   \n",
      "..   ...  ..           ...        ...          ...        ...        ...   \n",
      "899   61   M           ASY        148          203          0     Normal   \n",
      "905   67   M           NAP        152          212          0        LVH   \n",
      "908   63   M           ASY        140          187          0        LVH   \n",
      "909   63   F           ASY        124          197          0     Normal   \n",
      "914   68   M           ASY        144          193          1     Normal   \n",
      "\n",
      "     MaxHR ExerciseAngina  Oldpeak ST_Slope  HeartDisease     AgeGroup  \n",
      "36      87              Y      1.5     Flat             1  Middle-aged  \n",
      "82     115              N      0.0     Flat             1  Middle-aged  \n",
      "85      94              Y      1.0     Flat             1  Middle-aged  \n",
      "86     112              Y      2.0     Flat             1  Middle-aged  \n",
      "100    115              Y      1.0     Flat             1  Middle-aged  \n",
      "..     ...            ...      ...      ...           ...          ...  \n",
      "899    161              N      0.0       Up             1  Middle-aged  \n",
      "905    150              N      0.8     Flat             1  Middle-aged  \n",
      "908    144              Y      4.0       Up             1  Middle-aged  \n",
      "909    136              Y      0.0     Flat             1  Middle-aged  \n",
      "914    141              N      3.4     Flat             1  Middle-aged  \n",
      "\n",
      "[161 rows x 13 columns]\n",
      "\n",
      "Average age for each chest pain type:\n",
      " ChestPainType\n",
      "ASY    54.959677\n",
      "ATA    49.242775\n",
      "NAP    53.310345\n",
      "TA     54.826087\n",
      "Name: Age, dtype: float64\n"
     ]
    }
   ],
   "source": [
    "df_over60_heart_disease = df_heart[(df_heart['Age'] > 60) & (df_heart['HeartDisease'] == 1)]\n",
    "print(\"\\nPatients over 60 with heart disease:\\n\", df_over60_heart_disease)\n",
    "avg_age_per_cp = df_heart.groupby('ChestPainType')['Age'].mean()\n",
    "print(\"\\nAverage age for each chest pain type:\\n\", avg_age_per_cp)"
   ]
  },
  {
   "cell_type": "markdown",
   "id": "5d7fa37b-5e8f-41d3-97b7-ae35f2fd66e3",
   "metadata": {},
   "source": [
    "8. Handling Missing Values\n",
    "a) Check for missing values\n",
    "b) Fill numeric columns with mean and categorical columns with mode if missing"
   ]
  },
  {
   "cell_type": "code",
   "execution_count": 19,
   "id": "13658dda-2178-4875-b75a-b8ff9620734a",
   "metadata": {},
   "outputs": [
    {
     "name": "stdout",
     "output_type": "stream",
     "text": [
      "\n",
      "Missing values in the DataFrame:\n",
      " Age               0\n",
      "Sex               0\n",
      "ChestPainType     0\n",
      "RestingBP         0\n",
      "Cholesterol       0\n",
      "FastingBS         0\n",
      "RestingECG        0\n",
      "MaxHR             0\n",
      "ExerciseAngina    0\n",
      "Oldpeak           0\n",
      "ST_Slope          0\n",
      "HeartDisease      0\n",
      "AgeGroup          0\n",
      "dtype: int64\n"
     ]
    }
   ],
   "source": [
    "missing_values = df_heart.isnull().sum()\n",
    "print(\"\\nMissing values in the DataFrame:\\n\", missing_values)\n"
   ]
  },
  {
   "cell_type": "markdown",
   "id": "545499dc-b9e8-4656-b3f5-d1d81ace3b39",
   "metadata": {},
   "source": [
    "9. Concatenating Data\n",
    "a) Split the DataFrame into male and female\n",
    "b) Add 'Group' column to each part\n",
    "c) Concatenate the two DataFrames"
   ]
  },
  {
   "cell_type": "code",
   "execution_count": 21,
   "id": "f6860353-b49d-48b5-a8d6-fc2b6d1689fa",
   "metadata": {},
   "outputs": [
    {
     "name": "stdout",
     "output_type": "stream",
     "text": [
      "\n",
      "Concatenated DataFrame:\n",
      "    Age Sex Group\n",
      "0   40   M  Male\n",
      "2   37   M  Male\n",
      "4   54   M  Male\n",
      "5   39   M  Male\n",
      "7   54   M  Male\n"
     ]
    }
   ],
   "source": [
    "df_male = df_heart[df_heart['Sex'] == 'M'].copy()\n",
    "df_female = df_heart[df_heart['Sex'] == 'F'].copy()\n",
    "df_male['Group'] = 'Male'\n",
    "df_female['Group'] = 'Female'\n",
    "df_combined = pd.concat([df_male, df_female])\n",
    "print(\"\\nConcatenated DataFrame:\\n\", df_combined[['Age', 'Sex', 'Group']].head())\n"
   ]
  },
  {
   "cell_type": "markdown",
   "id": "3b72d5d3-a546-46e5-8cce-1d81577e43c8",
   "metadata": {},
   "source": [
    "10. Applying Functions\n",
    "a) Create a custom function to calculate BMI\n",
    "b) Use a lambda function to create 'AgeTimes100'"
   ]
  },
  {
   "cell_type": "code",
   "execution_count": 24,
   "id": "d3cb9d42-59ca-4ef8-97f6-3beb363a690f",
   "metadata": {},
   "outputs": [
    {
     "name": "stdout",
     "output_type": "stream",
     "text": [
      "\n",
      "DataFrame with 'AgeTimes100' column:\n",
      "    Age  AgeTimes100\n",
      "0   40         4000\n",
      "1   49         4900\n",
      "2   37         3700\n",
      "3   48         4800\n",
      "4   54         5400\n"
     ]
    }
   ],
   "source": [
    "\n",
    "df_heart['AgeTimes100'] = df_heart['Age'].apply(lambda x: x * 100)\n",
    "print(\"\\nDataFrame with 'AgeTimes100' column:\\n\", df_heart[['Age', 'AgeTimes100']].head())"
   ]
  },
  {
   "cell_type": "code",
   "execution_count": null,
   "id": "fdf1b4cb-ae0b-43bf-bdeb-26fe3f3d0ed5",
   "metadata": {},
   "outputs": [],
   "source": []
  }
 ],
 "metadata": {
  "kernelspec": {
   "display_name": "Python 3 (ipykernel)",
   "language": "python",
   "name": "python3"
  },
  "language_info": {
   "codemirror_mode": {
    "name": "ipython",
    "version": 3
   },
   "file_extension": ".py",
   "mimetype": "text/x-python",
   "name": "python",
   "nbconvert_exporter": "python",
   "pygments_lexer": "ipython3",
   "version": "3.10.11"
  },
  "widgets": {
   "application/vnd.jupyter.widget-state+json": {
    "state": {},
    "version_major": 2,
    "version_minor": 0
   }
  }
 },
 "nbformat": 4,
 "nbformat_minor": 5
}
