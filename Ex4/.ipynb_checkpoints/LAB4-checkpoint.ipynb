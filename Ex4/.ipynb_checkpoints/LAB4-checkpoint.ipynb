{
 "cells": [
  {
   "cell_type": "markdown",
   "id": "b2cc9def-6d18-4b7f-a7c7-f7b034c7287f",
   "metadata": {},
   "source": [
    "# LAB -4"
   ]
  },
  {
   "cell_type": "markdown",
   "id": "6674dac1-73b0-4c3b-b6a0-00509e2da86e",
   "metadata": {},
   "source": [
    "## A Amar Rohith\n",
    "## EC21B1106"
   ]
  },
  {
   "cell_type": "markdown",
   "id": "0ef9caa3-e7d9-40c9-a609-73181b623cad",
   "metadata": {},
   "source": [
    "1.\tIn this question,  you will explore the concept of Mahalanobis distance and its application to classifying samples from the Iris dataset. The Iris dataset is a commonly used dataset in machine learning and consists of three classes of iris plants: Setosa, Versicolor, and Virginica. You will compute the Mahalanobis distance for one sample from each class and classify the samples based on their Mahalanobis distance."
   ]
  },
  {
   "cell_type": "markdown",
   "id": "98039227-6684-4e4d-94e5-7a1144bbf3c2",
   "metadata": {},
   "source": [
    "Tasks:\n",
    "●\tLoad the Iris dataset (csv file present in the classroom).\n",
    "●\tChoose one random sample from each class (Setosa, Versicolor, and Virginica) which will act as the test data.\n",
    "●\tCompute the mean vector and covariance matrix for each class (without the sample picked in the previous part, now it will act as the test data).\n",
    "●\tCalculate the Mahalanobis distance for each of the selected samples with each of the class using the formula:\n",
    "Mahalanobis distance = sqrt((x - μ)ᵀ * Σ⁻¹ * (x - μ))\n",
    "Where:\n",
    "x is the feature vector of the sample.\n",
    "μ is the mean vector for each class.\n",
    "Σ⁻¹ is the inverse of the covariance matrix for each class.\n",
    "\n",
    "●\tCompare the Mahalanobis distances for the three samples and classify each sample to the class with the smallest Mahalanobis distance.\n",
    "●\tPrint the original class and the predicted class for each sample, along with their Mahalanobis distances.\n"
   ]
  },
  {
   "cell_type": "code",
   "execution_count": 58,
   "id": "2abff8ce-36a9-4bbd-acc8-c0f19b26e57a",
   "metadata": {},
   "outputs": [],
   "source": [
    "import pandas as pd\n",
    "import numpy as np\n",
    "import cv2\n",
    "import matplotlib.pyplot as plt\n",
    "import math\n",
    "\n",
    "def mycovariance_matrix(data):\n",
    "    data = np.array(data)\n",
    "    num_samples, num_variables = data.shape\n",
    "    means = np.mean(data, axis=0)\n",
    "    centered_data = data - means\n",
    "    cov_matrix = np.dot(centered_data.T, centered_data) / (num_samples - 1)\n",
    "    return cov_matrix\n",
    "\n",
    "def mahalanobis_distance(sample, mean_vector, cov_matrix):\n",
    "   inv_cov_matrix = np.linalg.inv(cov_matrix)\n",
    "   sample = np.array(sample)\n",
    "   mean_vector = np.array(mean_vector)\n",
    "   diff = sample - mean_vector\n",
    "   distance = np.sqrt(np.dot(np.dot(diff, inv_cov_matrix), diff.T))\n",
    "   return distance\n",
    "\n",
    "def calculate_correlation(x, y):\n",
    "    x_mean = np.mean(x)\n",
    "    y_mean = np.mean(y)\n",
    "    numerator = sum((x_i - x_mean) * (y_i - y_mean) for x_i, y_i in zip(x, y))\n",
    "    x_squared_sum = sum((x_i - x_mean)**2 for x_i in x)\n",
    "    y_squared_sum = sum((y_i - y_mean)**2 for y_i in y)\n",
    "    denominator = (np.sqrt(x_squared_sum) * np.sqrt(y_squared_sum))\n",
    "    return numerator / denominator\n",
    "\n",
    "def kl(H1, H2):\n",
    "    kl_div = 0\n",
    "    for i in range(len(H1)):\n",
    "        if H1[i] != 0 and H2[i] != 0:\n",
    "            kl_div += H1[i] * np.log(H1[i] / H2[i])\n",
    "    return kl_div\n",
    "\n",
    "def bhattacharyya_distance(H1, H2):\n",
    "    bc = 0\n",
    "    for i in range(len(H1)):\n",
    "        bc += np.sqrt(H1[i] * H2[i])\n",
    "    return -np.log(bc)\n",
    "\n",
    "def read_file(filename):\n",
    "    with open(filename, 'r') as file:\n",
    "        return file.read()\n",
    "\n",
    "def create_vector(text, vocabulary):\n",
    "    vector = [0] * len(vocabulary)\n",
    "    words = text.lower().split()\n",
    "    for word in words:\n",
    "        if word in vocabulary:\n",
    "            vector[vocabulary[word]] += 1\n",
    "    return vector\n"
   ]
  },
  {
   "cell_type": "code",
   "execution_count": 3,
   "id": "109b3457-0b3c-45ba-bc75-4f8795282a4d",
   "metadata": {},
   "outputs": [
    {
     "data": {
      "text/html": [
       "<div>\n",
       "<style scoped>\n",
       "    .dataframe tbody tr th:only-of-type {\n",
       "        vertical-align: middle;\n",
       "    }\n",
       "\n",
       "    .dataframe tbody tr th {\n",
       "        vertical-align: top;\n",
       "    }\n",
       "\n",
       "    .dataframe thead th {\n",
       "        text-align: right;\n",
       "    }\n",
       "</style>\n",
       "<table border=\"1\" class=\"dataframe\">\n",
       "  <thead>\n",
       "    <tr style=\"text-align: right;\">\n",
       "      <th></th>\n",
       "      <th>sepal.length</th>\n",
       "      <th>sepal.width</th>\n",
       "      <th>petal.length</th>\n",
       "      <th>petal.width</th>\n",
       "      <th>variety</th>\n",
       "    </tr>\n",
       "  </thead>\n",
       "  <tbody>\n",
       "    <tr>\n",
       "      <th>0</th>\n",
       "      <td>5.1</td>\n",
       "      <td>3.5</td>\n",
       "      <td>1.4</td>\n",
       "      <td>0.2</td>\n",
       "      <td>Setosa</td>\n",
       "    </tr>\n",
       "    <tr>\n",
       "      <th>1</th>\n",
       "      <td>4.9</td>\n",
       "      <td>3.0</td>\n",
       "      <td>1.4</td>\n",
       "      <td>0.2</td>\n",
       "      <td>Setosa</td>\n",
       "    </tr>\n",
       "    <tr>\n",
       "      <th>2</th>\n",
       "      <td>4.7</td>\n",
       "      <td>3.2</td>\n",
       "      <td>1.3</td>\n",
       "      <td>0.2</td>\n",
       "      <td>Setosa</td>\n",
       "    </tr>\n",
       "    <tr>\n",
       "      <th>3</th>\n",
       "      <td>4.6</td>\n",
       "      <td>3.1</td>\n",
       "      <td>1.5</td>\n",
       "      <td>0.2</td>\n",
       "      <td>Setosa</td>\n",
       "    </tr>\n",
       "    <tr>\n",
       "      <th>4</th>\n",
       "      <td>5.0</td>\n",
       "      <td>3.6</td>\n",
       "      <td>1.4</td>\n",
       "      <td>0.2</td>\n",
       "      <td>Setosa</td>\n",
       "    </tr>\n",
       "  </tbody>\n",
       "</table>\n",
       "</div>"
      ],
      "text/plain": [
       "   sepal.length  sepal.width  petal.length  petal.width variety\n",
       "0           5.1          3.5           1.4          0.2  Setosa\n",
       "1           4.9          3.0           1.4          0.2  Setosa\n",
       "2           4.7          3.2           1.3          0.2  Setosa\n",
       "3           4.6          3.1           1.5          0.2  Setosa\n",
       "4           5.0          3.6           1.4          0.2  Setosa"
      ]
     },
     "execution_count": 3,
     "metadata": {},
     "output_type": "execute_result"
    }
   ],
   "source": [
    "df=pd.read_csv(\"iris.csv\")\n",
    "df.head()"
   ]
  },
  {
   "cell_type": "code",
   "execution_count": 4,
   "id": "9688c860-420a-4f9b-a4c1-9feecb0f637b",
   "metadata": {},
   "outputs": [
    {
     "data": {
      "text/html": [
       "<div>\n",
       "<style scoped>\n",
       "    .dataframe tbody tr th:only-of-type {\n",
       "        vertical-align: middle;\n",
       "    }\n",
       "\n",
       "    .dataframe tbody tr th {\n",
       "        vertical-align: top;\n",
       "    }\n",
       "\n",
       "    .dataframe thead th {\n",
       "        text-align: right;\n",
       "    }\n",
       "</style>\n",
       "<table border=\"1\" class=\"dataframe\">\n",
       "  <thead>\n",
       "    <tr style=\"text-align: right;\">\n",
       "      <th></th>\n",
       "      <th>sepal.length</th>\n",
       "      <th>sepal.width</th>\n",
       "      <th>petal.length</th>\n",
       "      <th>petal.width</th>\n",
       "      <th>variety</th>\n",
       "    </tr>\n",
       "  </thead>\n",
       "  <tbody>\n",
       "    <tr>\n",
       "      <th>46</th>\n",
       "      <td>5.1</td>\n",
       "      <td>3.8</td>\n",
       "      <td>1.6</td>\n",
       "      <td>0.2</td>\n",
       "      <td>Setosa</td>\n",
       "    </tr>\n",
       "    <tr>\n",
       "      <th>96</th>\n",
       "      <td>5.7</td>\n",
       "      <td>2.9</td>\n",
       "      <td>4.2</td>\n",
       "      <td>1.3</td>\n",
       "      <td>Versicolor</td>\n",
       "    </tr>\n",
       "    <tr>\n",
       "      <th>146</th>\n",
       "      <td>6.3</td>\n",
       "      <td>2.5</td>\n",
       "      <td>5.0</td>\n",
       "      <td>1.9</td>\n",
       "      <td>Virginica</td>\n",
       "    </tr>\n",
       "  </tbody>\n",
       "</table>\n",
       "</div>"
      ],
      "text/plain": [
       "     sepal.length  sepal.width  petal.length  petal.width     variety\n",
       "46            5.1          3.8           1.6          0.2      Setosa\n",
       "96            5.7          2.9           4.2          1.3  Versicolor\n",
       "146           6.3          2.5           5.0          1.9   Virginica"
      ]
     },
     "execution_count": 4,
     "metadata": {},
     "output_type": "execute_result"
    }
   ],
   "source": [
    "min_value=df.groupby('variety').count().min(axis=None)\n",
    "dice=np.random.randint(0,min_value)\n",
    "sample_list=df.groupby('variety').nth(dice)\n",
    "sample_list.head()"
   ]
  },
  {
   "cell_type": "code",
   "execution_count": 23,
   "id": "e5092be0-6f49-4430-95f0-5b34a2b402f0",
   "metadata": {},
   "outputs": [
    {
     "data": {
      "text/html": [
       "<div>\n",
       "<style scoped>\n",
       "    .dataframe tbody tr th:only-of-type {\n",
       "        vertical-align: middle;\n",
       "    }\n",
       "\n",
       "    .dataframe tbody tr th {\n",
       "        vertical-align: top;\n",
       "    }\n",
       "\n",
       "    .dataframe thead th {\n",
       "        text-align: right;\n",
       "    }\n",
       "</style>\n",
       "<table border=\"1\" class=\"dataframe\">\n",
       "  <thead>\n",
       "    <tr style=\"text-align: right;\">\n",
       "      <th></th>\n",
       "      <th>sepal.length</th>\n",
       "      <th>sepal.width</th>\n",
       "      <th>petal.length</th>\n",
       "      <th>petal.width</th>\n",
       "      <th>variety</th>\n",
       "    </tr>\n",
       "  </thead>\n",
       "  <tbody>\n",
       "    <tr>\n",
       "      <th>46</th>\n",
       "      <td>5.1</td>\n",
       "      <td>3.8</td>\n",
       "      <td>1.6</td>\n",
       "      <td>0.2</td>\n",
       "      <td>Setosa</td>\n",
       "    </tr>\n",
       "    <tr>\n",
       "      <th>96</th>\n",
       "      <td>5.7</td>\n",
       "      <td>2.9</td>\n",
       "      <td>4.2</td>\n",
       "      <td>1.3</td>\n",
       "      <td>Versicolor</td>\n",
       "    </tr>\n",
       "    <tr>\n",
       "      <th>146</th>\n",
       "      <td>6.3</td>\n",
       "      <td>2.5</td>\n",
       "      <td>5.0</td>\n",
       "      <td>1.9</td>\n",
       "      <td>Virginica</td>\n",
       "    </tr>\n",
       "  </tbody>\n",
       "</table>\n",
       "</div>"
      ],
      "text/plain": [
       "     sepal.length  sepal.width  petal.length  petal.width     variety\n",
       "46            5.1          3.8           1.6          0.2      Setosa\n",
       "96            5.7          2.9           4.2          1.3  Versicolor\n",
       "146           6.3          2.5           5.0          1.9   Virginica"
      ]
     },
     "execution_count": 23,
     "metadata": {},
     "output_type": "execute_result"
    }
   ],
   "source": [
    "test_index=sample_list.index.to_list()\n",
    "test_data=df.loc[df.index.isin(test_index)]\n",
    "train_data=df.loc[~df.index.isin(test_index)]\n",
    "train_data.head()\n",
    "test_data.head()"
   ]
  },
  {
   "cell_type": "code",
   "execution_count": 24,
   "id": "0a8770dc-461a-4437-b350-be0f82d33570",
   "metadata": {},
   "outputs": [
    {
     "name": "stdout",
     "output_type": "stream",
     "text": [
      "['Setosa' 'Versicolor' 'Virginica']\n",
      "mean_vectors={'Setosa': array([5.00408163, 3.42040816, 1.45918367, 0.24693878]), 'Versicolor': array([5.94081633, 2.76734694, 4.26122449, 1.32653061]), 'Virginica': array([6.59387755, 2.98367347, 5.56326531, 2.02857143])}\n",
      "covariance Matrices={'Setosa': array([[0.12664966, 0.10053997, 0.01642007, 0.01063776],\n",
      "       [0.10053997, 0.1437415 , 0.01085034, 0.00985544],\n",
      "       [0.01642007, 0.01085034, 0.03038265, 0.00633078],\n",
      "       [0.01063776, 0.00985544, 0.00633078, 0.01129252]]), 'Versicolor': array([[0.27079932, 0.08761054, 0.18640731, 0.05681122],\n",
      "       [0.08761054, 0.10016156, 0.08454082, 0.04213435],\n",
      "       [0.18640731, 0.08454082, 0.22534014, 0.07459184],\n",
      "       [0.05681122, 0.04213435, 0.07459184, 0.03990646]]), 'Virginica': array([[0.4110034 , 0.09281463, 0.30622874, 0.04934524],\n",
      "       [0.09281463, 0.10139456, 0.06730442, 0.04735119],\n",
      "       [0.30622874, 0.06730442, 0.30445578, 0.0483631 ],\n",
      "       [0.04934524, 0.04735119, 0.0483631 , 0.07666667]])}\n"
     ]
    }
   ],
   "source": [
    "class_unique=train_data['variety'].unique()\n",
    "print(class_unique)\n",
    "mean_vectors={}\n",
    "cov_matrices={}\n",
    "for varieties in class_unique:\n",
    "   \n",
    "    dframe=train_data[train_data['variety']==varieties].drop(columns='variety')\n",
    "    mean_vector=dframe.mean().values\n",
    "    mean_vectors[varieties]=mean_vector\n",
    "\n",
    "    covarience_matrix=mycovariance_matrix(dframe.values)\n",
    "    #covarience_matrix=np.cov(dframe.values.T)\n",
    "    cov_matrices[varieties]=covarience_matrix\n",
    "print(f\"mean_vectors={mean_vectors}\")\n",
    "print(f\"covariance Matrices={cov_matrices}\")\n",
    "    "
   ]
  },
  {
   "cell_type": "code",
   "execution_count": 31,
   "id": "93e9789c-d718-4ca1-bd9f-f06320859ebe",
   "metadata": {
    "scrolled": true
   },
   "outputs": [
    {
     "name": "stdout",
     "output_type": "stream",
     "text": [
      "predicted class=Setosa,original class=Setosa\n",
      "predicted class=Versicolor,original class=Versicolor\n",
      "predicted class=Virginica,original class=Virginica\n"
     ]
    }
   ],
   "source": [
    "for _,test in test_data.iterrows():\n",
    "    distance={}\n",
    "    original_class=test['variety']\n",
    "    test=test.drop('variety').values\n",
    "    for varieties in class_unique:\n",
    "        distance[varieties]=mahalanobis_distance(test, mean_vectors[varieties], cov_matrices[varieties])\n",
    "    predicted_class=min(distance,key=lambda x:distance[x])\n",
    "    \n",
    "    print(f\"predicted class={predicted_class},original class={original_class}\")\n",
    "    \n",
    "        "
   ]
  },
  {
   "cell_type": "markdown",
   "id": "1918767f-348a-4b98-b0a8-8be87064bf21",
   "metadata": {},
   "source": [
    "2.\t  You are conducting a study to explore the relationships between various factors and their potential correlation with the test scores of a group of individuals. You have gathered data from a group of individuals, and the table below represents the hours spent on different activities, along with their corresponding test scores. Your task is to analyze the data and determine the type of correlation, if any, between each variable and the test scores, without using built-in functions for calculating correlation."
   ]
  },
  {
   "cell_type": "code",
   "execution_count": 41,
   "id": "02c8b58c-a303-4630-bb71-da20b1ca2e64",
   "metadata": {},
   "outputs": [
    {
     "name": "stdout",
     "output_type": "stream",
     "text": [
      "correlation between Hours Studied and test score is : 1.0\n",
      "correlation between Hours Watching TV and test score is : -0.9819805060619656\n",
      "correlation between Outdoor Activity Time and test score is : 1.0\n",
      "correlation between Hours Listening to Music and test score is : -0.2\n",
      "correlation between Water Consumed and test score is : -0.35503580124836315\n"
     ]
    }
   ],
   "source": [
    "data = {\n",
    "    'Hours Studied': [2, 3, 4, 5, 6, 7],\n",
    "    'Hours Watching TV': [4, 3, 2, 1, 0, 0],\n",
    "    'Outdoor Activity Time': [2, 4, 6, 8, 10, 12],\n",
    "    'Hours Listening to Music': [2, 3, 4, 1, 5, 0],\n",
    "    'Water Consumed': [5, 6, 5, 6, 4, 5],\n",
    "    'Test Score': [65, 70, 75, 80, 85, 90]\n",
    "}\n",
    "df=pd.DataFrame(data)\n",
    "df.head()\n",
    "target_variable=df[\"Test Score\"]\n",
    "variables=['Hours Studied', 'Hours Watching TV', 'Outdoor Activity Time', 'Hours Listening to Music', 'Water Consumed']\n",
    "for feature in variables:\n",
    "    corr=calculate_correlation(data[feature], data[\"Test Score\"])\n",
    "    print(f\"correlation between {feature} and test score is : {corr}\")"
   ]
  },
  {
   "cell_type": "markdown",
   "id": "08168d96-8dec-4ce5-8577-6ae2cd1f2e92",
   "metadata": {},
   "source": [
    "3.\tConsider the following images. Obtain the histograms for each of the images. Using a suitable distance measure (Bhattacharyya Distance) , find the distance between the query image and reference images. You can use the inbuilt function to calculate the Bhattacharyya Distance between two histograms, check classroom post for more information."
   ]
  },
  {
   "cell_type": "code",
   "execution_count": 48,
   "id": "17880b67-4a8b-4057-a8f7-187cfe0d4abf",
   "metadata": {},
   "outputs": [
    {
     "name": "stdout",
     "output_type": "stream",
     "text": [
      "Bhattacharyya Distance (Query vs Ref Image 1): 0.194471668817361\n",
      "Bhattacharyya Distance (Query vs Ref Image 2): 0.6472626387546532\n"
     ]
    },
    {
     "data": {
      "image/png": "[encoded data removed]",
      "text/plain": [
       "<Figure size 1000x600 with 3 Axes>"
      ]
     },
     "metadata": {},
     "output_type": "display_data"
    }
   ],
   "source": [
    "query_image=cv2.imread('queryimage.png',cv2.IMREAD_GRAYSCALE)\n",
    "ref_image_1=cv2.imread('refimage1.png',cv2.IMREAD_GRAYSCALE)\n",
    "ref_image_2=cv2.imread('refimage2.png',cv2.IMREAD_GRAYSCALE)\n",
    "hist_query = cv2.calcHist([query_image], [0], None, [256], [0, 256])\n",
    "hist_ref_1 = cv2.calcHist([ref_image_1], [0], None, [256], [0, 256])\n",
    "hist_ref_2 = cv2.calcHist([ref_image_2], [0], None, [256], [0, 256])\n",
    "hist_query = cv2.normalize(hist_query, hist_query).flatten()\n",
    "hist_ref_1 = cv2.normalize(hist_ref_1, hist_ref_1).flatten()\n",
    "hist_ref_2 = cv2.normalize(hist_ref_2, hist_ref_2).flatten()\n",
    "dist_ref_1 = cv2.compareHist(hist_query, hist_ref_1, cv2.HISTCMP_BHATTACHARYYA)\n",
    "dist_ref_2 = cv2.compareHist(hist_query, hist_ref_2, cv2.HISTCMP_BHATTACHARYYA)\n",
    "\n",
    "print(f\"Bhattacharyya Distance (Query vs Ref Image 1): {dist_ref_1}\")\n",
    "print(f\"Bhattacharyya Distance (Query vs Ref Image 2): {dist_ref_2}\")\n",
    "\n",
    "plt.figure(figsize=(10, 6))\n",
    "\n",
    "plt.subplot(1, 3, 1)\n",
    "plt.title(\"Query Image Histogram\")\n",
    "plt.plot(hist_query, color='r')\n",
    "\n",
    "plt.subplot(1, 3, 2)\n",
    "plt.title(\"Reference Image 1 Histogram\")\n",
    "plt.plot(hist_ref_1, color='g')\n",
    "\n",
    "plt.subplot(1, 3, 3)\n",
    "plt.title(\"Reference Image 2 Histogram\")\n",
    "plt.plot(hist_ref_2, color='b')\n",
    "\n",
    "\n",
    "plt.show()\n"
   ]
  },
  {
   "cell_type": "markdown",
   "id": "5eeff5ba-dcec-4df5-a880-2f87209db4bc",
   "metadata": {},
   "source": [
    "## Part B"
   ]
  },
  {
   "cell_type": "markdown",
   "id": "f001869c-fad4-4f6d-92ea-2944f3d6675b",
   "metadata": {},
   "source": [
    "1.\tCalculate the distance between the two normalized histograms H1 and H2 using each of the following methods:\n",
    "(a) KL Distance\n",
    "(b) Bhattacharyya Distance\n",
    "H1 = [ 0.24, 0.2, 0.16, 0.12, 0.08, 0.04, 0.12, 0.04]\n",
    "H2 = [ 0.22, 0.23, 0.16, 0.13, 0.11, 0.08, 0.05, 0.02]\n"
   ]
  },
  {
   "cell_type": "code",
   "execution_count": 51,
   "id": "d2f03470-3a01-46ea-a4d9-3e2285a10d4e",
   "metadata": {},
   "outputs": [
    {
     "name": "stdout",
     "output_type": "stream",
     "text": [
      "KL Divergence: 0.06290516707464021\n",
      "Bhattacharyya Distance: 0.014830056106628874\n"
     ]
    }
   ],
   "source": [
    "H1 = np.array([0.24, 0.2, 0.16, 0.12, 0.08, 0.04, 0.12, 0.04])\n",
    "H2 = np.array([0.22, 0.23, 0.16, 0.13, 0.11, 0.08, 0.05, 0.02])\n",
    "kl_distance = kl(H1, H2)\n",
    "bhatt_distance = bhattacharyya_distance(H1, H2)\n",
    "print(f\"KL Divergence: {kl_distance}\")\n",
    "print(f\"Bhattacharyya Distance: {bhatt_distance}\")\n",
    "\n"
   ]
  },
  {
   "cell_type": "markdown",
   "id": "fc111300-55a8-4454-bc19-5a7d2ec10210",
   "metadata": {},
   "source": [
    "2.\tCompare two text files doc1.txt and doc2.txt using cosine distance.\n"
   ]
  },
  {
   "cell_type": "code",
   "execution_count": 60,
   "id": "451298bc-1ae4-4eb7-8821-4366d6395ca6",
   "metadata": {},
   "outputs": [
    {
     "name": "stdout",
     "output_type": "stream",
     "text": [
      "Cosine Distance: 0.6938137821521027\n"
     ]
    }
   ],
   "source": [
    "doc1 = read_file('doc1.txt')\n",
    "doc2 = read_file('doc2.txt')\n",
    "\n",
    "\n",
    "vocabulary = {}\n",
    "for word in (doc1 + \" \" + doc2).lower().split():\n",
    "    if word not in vocabulary:\n",
    "        vocabulary[word] = len(vocabulary)\n",
    "\n",
    "\n",
    "vec1 = create_vector(doc1, vocabulary)\n",
    "vec2 = create_vector(doc2, vocabulary)\n",
    "\n",
    "\n",
    "dot_product = sum(a * b for a, b in zip(vec1, vec2))\n",
    "\n",
    "\n",
    "magnitude_a = math.sqrt(sum(a ** 2 for a in vec1))\n",
    "magnitude_b = math.sqrt(sum(b ** 2 for b in vec2))\n",
    "\n",
    "\n",
    "if magnitude_a == 0 or magnitude_b == 0:\n",
    "    cosine_similarity = 0.0\n",
    "else:\n",
    "    cosine_similarity = dot_product / (magnitude_a * magnitude_b)\n",
    "\n",
    "\n",
    "cosine_distance = 1 - cosine_similarity\n",
    "\n",
    "\n",
    "print(f\"Cosine Distance: {cosine_distance}\")"
   ]
  },
  {
   "cell_type": "code",
   "execution_count": null,
   "id": "a50e526a-c3ad-41e0-af79-ea892154cf8e",
   "metadata": {},
   "outputs": [],
   "source": []
  }
 ],
 "metadata": {
  "kernelspec": {
   "display_name": "Python 3 (ipykernel)",
   "language": "python",
   "name": "python3"
  },
  "language_info": {
   "codemirror_mode": {
    "name": "ipython",
    "version": 3
   },
   "file_extension": ".py",
   "mimetype": "text/x-python",
   "name": "python",
   "nbconvert_exporter": "python",
   "pygments_lexer": "ipython3",
   "version": "3.10.11"
  },
  "widgets": {
   "application/vnd.jupyter.widget-state+json": {
    "state": {},
    "version_major": 2,
    "version_minor": 0
   }
  }
 },
 "nbformat": 4,
 "nbformat_minor": 5
}
